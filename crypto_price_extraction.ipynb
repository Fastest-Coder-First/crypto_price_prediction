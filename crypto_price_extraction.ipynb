{
 "cells": [
  {
   "cell_type": "code",
   "execution_count": 15,
   "metadata": {},
   "outputs": [],
   "source": [
    "import cryptocompare\n",
    "import urllib.request\n",
    "import pandas as pd\n",
    "import json\n",
    "import numpy as np\n",
    "import datetime\n",
    "import time\n",
    "import os\n",
    "from pathlib import Path\n",
    "\n",
    "import requests\n",
    "# import time\n",
    "# import datetime\n",
    "# import typing\n",
    "# import os\n",
    "from typing import Union, Optional, List, Dict\n",
    "Timestamp = Union[datetime.datetime, datetime.date, int, float]"
   ]
  },
  {
   "cell_type": "code",
   "execution_count": 14,
   "metadata": {},
   "outputs": [
    {
     "data": {
      "text/plain": [
       "'&api_key=2505dbe622f0828b75b9fce3b24781f35bd23b25e6cf0ca4b118d76a9bb9e6aa'"
      ]
     },
     "execution_count": 14,
     "metadata": {},
     "output_type": "execute_result"
    }
   ],
   "source": [
    "cryptocompare.cryptocompare._set_api_key_parameter(\"2505dbe622f0828b75b9fce3b24781f35bd23b25e6cf0ca4b118d76a9bb9e6aa\")"
   ]
  },
  {
   "cell_type": "code",
   "execution_count": 16,
   "metadata": {},
   "outputs": [],
   "source": [
    "# API\n",
    "# _API_KEY_PARAMETER = \"\"\n",
    "# _URL_COIN_LIST = 'https://www.cryptocompare.com/api/data/coinlist?'\n",
    "# _URL_PRICE = 'https://min-api.cryptocompare.com/data/pricemulti?fsyms={}&tsyms={}'\n",
    "# _URL_PRICE_MULTI = 'https://min-api.cryptocompare.com/data/pricemulti?fsyms={}&tsyms={}'\n",
    "# _URL_PRICE_MULTI_FULL = 'https://min-api.cryptocompare.com/data/pricemultifull?fsyms={}&tsyms={}'\n",
    "_URL_HIST_PRICE = 'https://min-api.cryptocompare.com/data/pricehistorical?fsym={}&tsyms={}&ts={}&e={}'\n",
    "_URL_HIST_PRICE_DAY = 'https://min-api.cryptocompare.com/data/histoday?fsym={}&tsym={}&limit={}&e={}&toTs={}'\n",
    "_URL_HIST_PRICE_HOUR = 'https://min-api.cryptocompare.com/data/histohour?fsym={}&tsym={}&limit={}&e={}&toTs={}'\n",
    "# _URL_HIST_PRICE_MINUTE = 'https://min-api.cryptocompare.com/data/histominute?fsym={}&tsym={}&limit={}&e={}&toTs={}'\n",
    "# _URL_AVG = 'https://min-api.cryptocompare.com/data/generateAvg?fsym={}&tsym={}&e={}'\n",
    "# _URL_EXCHANGES = 'https://www.cryptocompare.com/api/data/exchanges?'\n",
    "# _URL_PAIRS = 'https://min-api.cryptocompare.com/data/pair/mapping/exchange?e={}'\n",
    "\n",
    "# DEFAULTS\n",
    "CURRENCY = 'USD'\n",
    "LIMIT = 1440"
   ]
  },
  {
   "cell_type": "code",
   "execution_count": 18,
   "metadata": {},
   "outputs": [],
   "source": [
    "\n",
    "def _query_cryptocompare(url: str, errorCheck: bool = True, api_key: str = None) -> Optional[Dict]:\n",
    "    \"\"\"\n",
    "    Query the url and return the result or None on failure.\n",
    "    :param url: the url\n",
    "    :param errorCheck: run extra error checks (default: True)\n",
    "    :returns: respones, or nothing if errorCheck=True\n",
    "    :api_key: optional, if you want to add an API Key\n",
    "    \"\"\"\n",
    "    api_key_parameter = _set_api_key_parameter(api_key)\n",
    "    try:\n",
    "        response = requests.get(url + api_key_parameter).json()\n",
    "    except Exception as e:\n",
    "        print('Error getting coin information. %s' % str(e))\n",
    "        return None\n",
    "    if errorCheck and (response.get('Response') == 'Error'):\n",
    "        print('[ERROR] %s' % response.get('Message'))\n",
    "        return None\n",
    "    return response\n",
    "\n",
    "\n",
    "def _format_parameter(parameter: object) -> str:\n",
    "    \"\"\"\n",
    "    Format the parameter depending on its type and return\n",
    "    the string representation accepted by the API.\n",
    "    :param parameter: parameter to format\n",
    "    \"\"\"\n",
    "    if isinstance(parameter, list):\n",
    "        return ','.join(parameter)\n",
    "\n",
    "    else:\n",
    "        return str(parameter)\n",
    "\n",
    "\n",
    "def _format_timestamp(timestamp: Timestamp) -> int:\n",
    "    \"\"\"\n",
    "    Format the timestamp depending on its type and return\n",
    "    the integer representation accepted by the API.\n",
    "    :param timestamp: timestamp to format\n",
    "    \"\"\"\n",
    "    if isinstance(timestamp, datetime.datetime) or isinstance(timestamp, datetime.date):\n",
    "        return int(time.mktime(timestamp.timetuple()))\n",
    "    return int(timestamp)\n",
    "\n",
    "\n",
    "def _set_api_key_parameter(api_key: str = None) -> str:\n",
    "    if api_key is None:\n",
    "        api_key = os.getenv('CRYPTOCOMPARE_API_KEY')\n",
    "    if api_key is not None:\n",
    "        _API_KEY = \"&api_key={}\".format(api_key)\n",
    "        return _API_KEY\n",
    "    return \"\""
   ]
  },
  {
   "cell_type": "code",
   "execution_count": 19,
   "metadata": {},
   "outputs": [],
   "source": [
    "\n",
    "def get_historical_price(coin: str, currency: str = CURRENCY, timestamp: Timestamp = time.time(),\n",
    "                         exchange: str = 'CCCAGG') -> Optional[Dict]:\n",
    "    \"\"\"\n",
    "    Get the price of a coin in a given currency during a specific time.\n",
    "    :param coin: symbolic name of the coin (e.g. BTC)\n",
    "    :param currency: short hand description of the currency (e.g. EUR)\n",
    "    :param timestamp: point in time\n",
    "    :param exchange: the exchange to use\n",
    "    :returns: dict of coin and currency price pairs\n",
    "    \"\"\"\n",
    "    return _query_cryptocompare(\n",
    "        _URL_HIST_PRICE.format(coin,\n",
    "                               _format_parameter(currency),\n",
    "                               _format_timestamp(timestamp),\n",
    "                               _format_parameter(exchange))\n",
    "    )\n",
    "\n",
    "\n",
    "def get_historical_price_day(coin: str, currency: str = CURRENCY, limit: int = LIMIT,\n",
    "                             exchange: str = 'CCCAGG', toTs: Timestamp = time.time()) -> Optional[Dict]:\n",
    "    \"\"\"\n",
    "    Get historical price (day).\n",
    "    :param coin: symbolic name of the coin (e.g. BTC)\n",
    "    :param currency: short hand description of the currency (e.g. EUR)\n",
    "    :param limit: number of data points (max. 2000)\n",
    "    :param exchange: exchange to use (default: 'CCCAGG')\n",
    "    :param toTs: return data before this timestamp. (Unix epoch time or datetime object)\n",
    "    :returns: dict of coin and currency price pairs\n",
    "    \"\"\"\n",
    "    response = _query_cryptocompare(\n",
    "        _URL_HIST_PRICE_DAY.format(coin, _format_parameter(currency), limit, exchange, _format_timestamp(toTs)))\n",
    "    if response:\n",
    "        return response['Data']\n",
    "    return None\n",
    "\n",
    "\n",
    "def get_historical_price_hour(coin: str, currency: str = CURRENCY, limit: int = LIMIT,\n",
    "                              exchange: str = 'CCCAGG', toTs: Timestamp = time.time()) -> Optional[Dict]:\n",
    "    \"\"\"\n",
    "    Get historical price (hourly).\n",
    "    :param coin: symbolic name of the coin (e.g. BTC)\n",
    "    :param currency: short hand description of the currency (e.g. EUR)\n",
    "    :param limit: number of data points (max. 2000)\n",
    "    :param exchange: exchange to use (default: 'CCCAGG')\n",
    "    :param toTs: return data before this timestamp. (Unix epoch time or datetime object)\n",
    "    :returns: dict of coin and currency price pairs\n",
    "    \"\"\"\n",
    "    response = _query_cryptocompare(\n",
    "        _URL_HIST_PRICE_HOUR.format(coin, _format_parameter(currency), limit, exchange, _format_timestamp(toTs)))\n",
    "    if response:\n",
    "        return response['Data']\n",
    "    return None\n"
   ]
  },
  {
   "cell_type": "code",
   "execution_count": 20,
   "metadata": {},
   "outputs": [],
   "source": [
    "path = Path(f'{os.getcwd()}')\n",
    "file = open(f\"{path}\\current_crypto.txt\", \"a+\")\n",
    "\n",
    "df = cryptocompare.get_historical_price_hour('DOGE', currency='USD')"
   ]
  },
  {
   "cell_type": "code",
   "execution_count": 48,
   "metadata": {},
   "outputs": [
    {
     "name": "stdout",
     "output_type": "stream",
     "text": [
      "                    time    high     low    open   volumefrom    volumeto  \\\n",
      "0    2021-12-23 12:00:00  0.1773  0.1752  0.1756   9247792.92  1633539.76   \n",
      "1    2021-12-23 13:00:00  0.1779  0.1764  0.1764   6310294.05  1118300.86   \n",
      "2    2021-12-23 14:00:00  0.1774  0.1757  0.1771   6428214.96  1134577.36   \n",
      "3    2021-12-23 15:00:00  0.1777  0.1763  0.1764   8064412.15  1427506.12   \n",
      "4    2021-12-23 16:00:00  0.1788  0.1759  0.1768  12220874.51  2166635.69   \n",
      "...                  ...     ...     ...     ...          ...         ...   \n",
      "1436 2022-02-21 08:00:00  0.1419  0.1397  0.1408  16082209.71  2267489.69   \n",
      "1437 2022-02-21 09:00:00  0.1399  0.1387  0.1398   5368530.12   748851.58   \n",
      "1438 2022-02-21 10:00:00  0.1392  0.1373  0.1390   6476132.18   893689.01   \n",
      "1439 2022-02-21 11:00:00  0.1381  0.1340  0.1377  37647786.28  5103222.91   \n",
      "1440 2022-02-21 12:00:00  0.1360  0.1342  0.1351  17797950.80  2406256.94   \n",
      "\n",
      "       close conversionType conversionSymbol  \n",
      "0     0.1764         direct                   \n",
      "1     0.1771         direct                   \n",
      "2     0.1764         direct                   \n",
      "3     0.1768         direct                   \n",
      "4     0.1781         direct                   \n",
      "...      ...            ...              ...  \n",
      "1436  0.1398         direct                   \n",
      "1437  0.1390         direct                   \n",
      "1438  0.1377         direct                   \n",
      "1439  0.1351         direct                   \n",
      "1440  0.1348         direct                   \n",
      "\n",
      "[1441 rows x 9 columns]\n"
     ]
    }
   ],
   "source": [
    "# Comvert df to dataframe and save to csv\n",
    "df = pd.DataFrame(df)\n",
    "df.to_csv(f\"{path}\\current_crypto.csv\")"
   ]
  },
  {
   "cell_type": "code",
   "execution_count": 55,
   "metadata": {},
   "outputs": [],
   "source": [
    "# Read csv file in new_df\n",
    "new_df = pd.read_csv(f\"{path}\\current_crypto.csv\")"
   ]
  },
  {
   "cell_type": "code",
   "execution_count": 60,
   "metadata": {},
   "outputs": [],
   "source": [
    "# Create new dataframe to hold only the time and close column\n",
    "new_df = new_df[['time', 'close']]\n",
    "#Create new column for coin_type = DOGE\n",
    "new_df['coin_type'] = 'DOGE'\n",
    "\n",
    "# Filter data between two dates \n",
    "filtered_df = new_df.loc[(new_df['time'] >= '2022-01-12') & (new_df['time'] <= '2022-01-17')]"
   ]
  },
  {
   "cell_type": "code",
   "execution_count": 61,
   "metadata": {},
   "outputs": [
    {
     "name": "stdout",
     "output_type": "stream",
     "text": [
      "                    time   close coin_type\n",
      "468  2022-01-12 00:00:00  0.1538      DOGE\n",
      "469  2022-01-12 01:00:00  0.1534      DOGE\n",
      "470  2022-01-12 02:00:00  0.1524      DOGE\n",
      "471  2022-01-12 03:00:00  0.1532      DOGE\n",
      "472  2022-01-12 04:00:00  0.1531      DOGE\n"
     ]
    }
   ],
   "source": [
    "print(filtered_df.head())"
   ]
  },
  {
   "cell_type": "code",
   "execution_count": 62,
   "metadata": {},
   "outputs": [
    {
     "data": {
      "image/png": "[encoded data removed]",
      "text/plain": [
       "<Figure size 1152x576 with 1 Axes>"
      ]
     },
     "metadata": {
      "needs_background": "light"
     },
     "output_type": "display_data"
    }
   ],
   "source": [
    "# Plot the dataframe time and close price between Jan 10, 2022, and Jan 15, 2022\n",
    "from matplotlib import pyplot as plt\n",
    "\n",
    "filtered_df.plot(x='time', y='close', figsize=(16, 8), title='DOGE Price')\n",
    "plt.show()"
   ]
  },
  {
   "cell_type": "code",
   "execution_count": 63,
   "metadata": {},
   "outputs": [],
   "source": [
    "# Save DOGE price from filtered_df to a csv file\n",
    "filtered_df.to_csv(f\"{path}\\DOGE_price.csv\")"
   ]
  },
  {
   "cell_type": "code",
   "execution_count": null,
   "metadata": {},
   "outputs": [],
   "source": []
  }
 ],
 "metadata": {
  "interpreter": {
   "hash": "93263193325cd6f76a9e21d176003adfa7a63d8f308e38218ffc45e6019c4146"
  },
  "kernelspec": {
   "display_name": "Python 3.9.7 64-bit",
   "language": "python",
   "name": "python3"
  },
  "language_info": {
   "codemirror_mode": {
    "name": "ipython",
    "version": 3
   },
   "file_extension": ".py",
   "mimetype": "text/x-python",
   "name": "python",
   "nbconvert_exporter": "python",
   "pygments_lexer": "ipython3",
   "version": "3.9.7"
  },
  "orig_nbformat": 4
 },
 "nbformat": 4,
 "nbformat_minor": 2
}
