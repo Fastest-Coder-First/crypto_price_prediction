{
  "nbformat": 4,
  "nbformat_minor": 0,
  "metadata": {
    "colab": {
      "name": "6_LSTM-prediction_BTC_price.ipynb",
      "provenance": [],
      "collapsed_sections": [],
      "mount_file_id": "1mZlZl7Jp2WnFQ8BnZi-q3LQDyaVKy65w",
      "authorship_tag": "ABX9TyPPyGp7kcXthQWUYrcs6cMH",
      "include_colab_link": true
    },
    "kernelspec": {
      "name": "python3",
      "display_name": "Python 3"
    },
    "language_info": {
      "name": "python"
    },
    "widgets": {
      "application/vnd.jupyter.widget-state+json": {
        "32d490e9695349f49056a86817b668fa": {
          "model_module": "@jupyter-widgets/controls",
          "model_name": "VBoxModel",
          "model_module_version": "1.5.0",
          "state": {
            "_dom_classes": [],
            "_model_module": "@jupyter-widgets/controls",
            "_model_module_version": "1.5.0",
            "_model_name": "VBoxModel",
            "_view_count": null,
            "_view_module": "@jupyter-widgets/controls",
            "_view_module_version": "1.5.0",
            "_view_name": "VBoxView",
            "box_style": "",
            "children": [
              "IPY_MODEL_a8488b9ac6f54598b187db577fbbb01b",
              "IPY_MODEL_94c13029904c431b81d9519a0dfa0f78"
            ],
            "layout": "IPY_MODEL_bb1149410f9f4f7b9ce92a015df32410"
          }
        },
        "a8488b9ac6f54598b187db577fbbb01b": {
          "model_module": "@jupyter-widgets/controls",
          "model_name": "LabelModel",
          "model_module_version": "1.5.0",
          "state": {
            "_dom_classes": [],
            "_model_module": "@jupyter-widgets/controls",
            "_model_module_version": "1.5.0",
            "_model_name": "LabelModel",
            "_view_count": null,
            "_view_module": "@jupyter-widgets/controls",
            "_view_module_version": "1.5.0",
            "_view_name": "LabelView",
            "description": "",
            "description_tooltip": null,
            "layout": "IPY_MODEL_0a5bb1faa69348ba816c39c8c0863744",
            "placeholder": "​",
            "style": "IPY_MODEL_3572804d936541a681a5830188cf8198",
            "value": "0.882 MB of 0.882 MB uploaded (0.000 MB deduped)\r"
          }
        },
        "94c13029904c431b81d9519a0dfa0f78": {
          "model_module": "@jupyter-widgets/controls",
          "model_name": "FloatProgressModel",
          "model_module_version": "1.5.0",
          "state": {
            "_dom_classes": [],
            "_model_module": "@jupyter-widgets/controls",
            "_model_module_version": "1.5.0",
            "_model_name": "FloatProgressModel",
            "_view_count": null,
            "_view_module": "@jupyter-widgets/controls",
            "_view_module_version": "1.5.0",
            "_view_name": "ProgressView",
            "bar_style": "",
            "description": "",
            "description_tooltip": null,
            "layout": "IPY_MODEL_b352a8e6ec164090a9779d4734fc419e",
            "max": 1,
            "min": 0,
            "orientation": "horizontal",
            "style": "IPY_MODEL_a0a254e566c8443d87413feb20a0b06c",
            "value": 1
          }
        },
        "bb1149410f9f4f7b9ce92a015df32410": {
          "model_module": "@jupyter-widgets/base",
          "model_name": "LayoutModel",
          "model_module_version": "1.2.0",
          "state": {
            "_model_module": "@jupyter-widgets/base",
            "_model_module_version": "1.2.0",
            "_model_name": "LayoutModel",
            "_view_count": null,
            "_view_module": "@jupyter-widgets/base",
            "_view_module_version": "1.2.0",
            "_view_name": "LayoutView",
            "align_content": null,
            "align_items": null,
            "align_self": null,
            "border": null,
            "bottom": null,
            "display": null,
            "flex": null,
            "flex_flow": null,
            "grid_area": null,
            "grid_auto_columns": null,
            "grid_auto_flow": null,
            "grid_auto_rows": null,
            "grid_column": null,
            "grid_gap": null,
            "grid_row": null,
            "grid_template_areas": null,
            "grid_template_columns": null,
            "grid_template_rows": null,
            "height": null,
            "justify_content": null,
            "justify_items": null,
            "left": null,
            "margin": null,
            "max_height": null,
            "max_width": null,
            "min_height": null,
            "min_width": null,
            "object_fit": null,
            "object_position": null,
            "order": null,
            "overflow": null,
            "overflow_x": null,
            "overflow_y": null,
            "padding": null,
            "right": null,
            "top": null,
            "visibility": null,
            "width": null
          }
        },
        "0a5bb1faa69348ba816c39c8c0863744": {
          "model_module": "@jupyter-widgets/base",
          "model_name": "LayoutModel",
          "model_module_version": "1.2.0",
          "state": {
            "_model_module": "@jupyter-widgets/base",
            "_model_module_version": "1.2.0",
            "_model_name": "LayoutModel",
            "_view_count": null,
            "_view_module": "@jupyter-widgets/base",
            "_view_module_version": "1.2.0",
            "_view_name": "LayoutView",
            "align_content": null,
            "align_items": null,
            "align_self": null,
            "border": null,
            "bottom": null,
            "display": null,
            "flex": null,
            "flex_flow": null,
            "grid_area": null,
            "grid_auto_columns": null,
            "grid_auto_flow": null,
            "grid_auto_rows": null,
            "grid_column": null,
            "grid_gap": null,
            "grid_row": null,
            "grid_template_areas": null,
            "grid_template_columns": null,
            "grid_template_rows": null,
            "height": null,
            "justify_content": null,
            "justify_items": null,
            "left": null,
            "margin": null,
            "max_height": null,
            "max_width": null,
            "min_height": null,
            "min_width": null,
            "object_fit": null,
            "object_position": null,
            "order": null,
            "overflow": null,
            "overflow_x": null,
            "overflow_y": null,
            "padding": null,
            "right": null,
            "top": null,
            "visibility": null,
            "width": null
          }
        },
        "3572804d936541a681a5830188cf8198": {
          "model_module": "@jupyter-widgets/controls",
          "model_name": "DescriptionStyleModel",
          "model_module_version": "1.5.0",
          "state": {
            "_model_module": "@jupyter-widgets/controls",
            "_model_module_version": "1.5.0",
            "_model_name": "DescriptionStyleModel",
            "_view_count": null,
            "_view_module": "@jupyter-widgets/base",
            "_view_module_version": "1.2.0",
            "_view_name": "StyleView",
            "description_width": ""
          }
        },
        "b352a8e6ec164090a9779d4734fc419e": {
          "model_module": "@jupyter-widgets/base",
          "model_name": "LayoutModel",
          "model_module_version": "1.2.0",
          "state": {
            "_model_module": "@jupyter-widgets/base",
            "_model_module_version": "1.2.0",
            "_model_name": "LayoutModel",
            "_view_count": null,
            "_view_module": "@jupyter-widgets/base",
            "_view_module_version": "1.2.0",
            "_view_name": "LayoutView",
            "align_content": null,
            "align_items": null,
            "align_self": null,
            "border": null,
            "bottom": null,
            "display": null,
            "flex": null,
            "flex_flow": null,
            "grid_area": null,
            "grid_auto_columns": null,
            "grid_auto_flow": null,
            "grid_auto_rows": null,
            "grid_column": null,
            "grid_gap": null,
            "grid_row": null,
            "grid_template_areas": null,
            "grid_template_columns": null,
            "grid_template_rows": null,
            "height": null,
            "justify_content": null,
            "justify_items": null,
            "left": null,
            "margin": null,
            "max_height": null,
            "max_width": null,
            "min_height": null,
            "min_width": null,
            "object_fit": null,
            "object_position": null,
            "order": null,
            "overflow": null,
            "overflow_x": null,
            "overflow_y": null,
            "padding": null,
            "right": null,
            "top": null,
            "visibility": null,
            "width": null
          }
        },
        "a0a254e566c8443d87413feb20a0b06c": {
          "model_module": "@jupyter-widgets/controls",
          "model_name": "ProgressStyleModel",
          "model_module_version": "1.5.0",
          "state": {
            "_model_module": "@jupyter-widgets/controls",
            "_model_module_version": "1.5.0",
            "_model_name": "ProgressStyleModel",
            "_view_count": null,
            "_view_module": "@jupyter-widgets/base",
            "_view_module_version": "1.2.0",
            "_view_name": "StyleView",
            "bar_color": null,
            "description_width": ""
          }
        }
      }
    }
  },
  "cells": [
    {
      "cell_type": "markdown",
      "metadata": {
        "id": "view-in-github",
        "colab_type": "text"
      },
      "source": [
        "<a href=\"https://colab.research.google.com/github/paulcodrea/dissertation/blob/main/6_LSTM_prediction_BTC_price.ipynb\" target=\"_parent\"><img src=\"https://colab.research.google.com/assets/colab-badge.svg\" alt=\"Open In Colab\"/></a>"
      ]
    },
    {
      "cell_type": "code",
      "source": [
        "!pip install wandb --quiet"
      ],
      "metadata": {
        "id": "DnXDwfZHA9pZ"
      },
      "execution_count": 75,
      "outputs": []
    },
    {
      "cell_type": "code",
      "source": [
        "!wandb login\n",
        "# cb34a0b023a44c8d62a2d3cefe662c5437f3e003"
      ],
      "metadata": {
        "colab": {
          "base_uri": "https://localhost:8080/"
        },
        "id": "MoL6M_NEFGKS",
        "outputId": "6e6c004b-a861-4f42-c5e2-11ffa8b4ad25"
      },
      "execution_count": 76,
      "outputs": [
        {
          "output_type": "stream",
          "name": "stdout",
          "text": [
            "\u001b[34m\u001b[1mwandb\u001b[0m: Currently logged in as: \u001b[33mpaulcodrea\u001b[0m (use `wandb login --relogin` to force relogin)\n"
          ]
        }
      ]
    },
    {
      "cell_type": "code",
      "execution_count": 77,
      "metadata": {
        "id": "B4cHGHj8G1XC"
      },
      "outputs": [],
      "source": [
        "import os\n",
        "import pandas as pd\n",
        "import numpy as np\n",
        "import matplotlib.pyplot as plt\n",
        "import wandb\n",
        "from wandb.keras import WandbCallback\n",
        "from time import time\n",
        "from keras.models import Sequential, load_model\n",
        "from keras.layers.core import Dense, Dropout \n",
        "from keras.layers import LSTM\n",
        "from time import time\n",
        "from keras.callbacks import EarlyStopping\n",
        "from sklearn.preprocessing import MinMaxScaler"
      ]
    },
    {
      "cell_type": "code",
      "source": [
        "wandb.init(project=\"6_LSTM-precition_BTC_price\", entity=\"paulcodrea\")"
      ],
      "metadata": {
        "colab": {
          "base_uri": "https://localhost:8080/",
          "height": 414,
          "referenced_widgets": [
            "32d490e9695349f49056a86817b668fa",
            "a8488b9ac6f54598b187db577fbbb01b",
            "94c13029904c431b81d9519a0dfa0f78",
            "bb1149410f9f4f7b9ce92a015df32410",
            "0a5bb1faa69348ba816c39c8c0863744",
            "3572804d936541a681a5830188cf8198",
            "b352a8e6ec164090a9779d4734fc419e",
            "a0a254e566c8443d87413feb20a0b06c"
          ]
        },
        "id": "Snl-yrkWBbq2",
        "outputId": "90555a50-7b60-4f4d-db03-643f5af39e4f"
      },
      "execution_count": 78,
      "outputs": [
        {
          "output_type": "display_data",
          "data": {
            "text/plain": [
              "<IPython.core.display.HTML object>"
            ],
            "text/html": [
              "Finishing last run (ID:2dwx6nyw) before initializing another..."
            ]
          },
          "metadata": {}
        },
        {
          "output_type": "stream",
          "name": "stdout",
          "text": [
            "\n"
          ]
        },
        {
          "output_type": "display_data",
          "data": {
            "text/plain": [
              "<IPython.core.display.HTML object>"
            ],
            "text/html": [
              "Waiting for W&B process to finish... <strong style=\"color:green\">(success).</strong>"
            ]
          },
          "metadata": {}
        },
        {
          "output_type": "display_data",
          "data": {
            "text/plain": [
              "VBox(children=(Label(value='0.858 MB of 0.858 MB uploaded (0.000 MB deduped)\\r'), FloatProgress(value=1.0, max…"
            ],
            "application/vnd.jupyter.widget-view+json": {
              "version_major": 2,
              "version_minor": 0,
              "model_id": "32d490e9695349f49056a86817b668fa"
            }
          },
          "metadata": {}
        },
        {
          "output_type": "display_data",
          "data": {
            "text/plain": [
              "<IPython.core.display.HTML object>"
            ],
            "text/html": [
              "<style>\n",
              "    table.wandb td:nth-child(1) { padding: 0 10px; text-align: right }\n",
              "    .wandb-row { display: flex; flex-direction: row; flex-wrap: wrap; width: 100% }\n",
              "    .wandb-col { display: flex; flex-direction: column; flex-basis: 100%; flex: 1; padding: 10px; }\n",
              "    </style>\n",
              "<div class=\"wandb-row\"><div class=\"wandb-col\"><h3>Run history:</h3><br/><table class=\"wandb\"><tr><td>epoch</td><td>▁▁▂▂▂▃▃▃▄▄▅▅▅▆▆▆▇▇▇█▁▁▂▂▂▃▃▃▄▄▅▅▅▆▆▆▇▇██</td></tr><tr><td>loss</td><td>█▆▂▁▁▁▁▁▁▁▁▂▁▁▁▁▁▁▁▁█▃▂▂▁▂▂▁▁▁▁▁▁▁▁▁▁▁▁▁</td></tr><tr><td>val_loss</td><td>█▃▁▁▁▁▁▁▁▁▁▂▁▁▁▁▁▁▁▁█▁▁▁▁▁▁▁▁▁▁▁▁▁▁▁▁▁▂▁</td></tr></table><br/></div><div class=\"wandb-col\"><h3>Run summary:</h3><br/><table class=\"wandb\"><tr><td>best_epoch</td><td>0</td></tr><tr><td>best_val_loss</td><td>0.0004</td></tr><tr><td>epoch</td><td>69</td></tr><tr><td>loss</td><td>0.0047</td></tr><tr><td>val_loss</td><td>0.0008</td></tr></table><br/></div></div>"
            ]
          },
          "metadata": {}
        },
        {
          "output_type": "display_data",
          "data": {
            "text/plain": [
              "<IPython.core.display.HTML object>"
            ],
            "text/html": [
              "Synced <strong style=\"color:#cdcd00\">peach-grass-5</strong>: <a href=\"https://wandb.ai/paulcodrea/6_LSTM-precition_BTC_price/runs/2dwx6nyw\" target=\"_blank\">https://wandb.ai/paulcodrea/6_LSTM-precition_BTC_price/runs/2dwx6nyw</a><br/>Synced 5 W&B file(s), 2 media file(s), 0 artifact file(s) and 1 other file(s)"
            ]
          },
          "metadata": {}
        },
        {
          "output_type": "display_data",
          "data": {
            "text/plain": [
              "<IPython.core.display.HTML object>"
            ],
            "text/html": [
              "Find logs at: <code>./wandb/run-20220325_101855-2dwx6nyw/logs</code>"
            ]
          },
          "metadata": {}
        },
        {
          "output_type": "display_data",
          "data": {
            "text/plain": [
              "<IPython.core.display.HTML object>"
            ],
            "text/html": [
              "Successfully finished last run (ID:2dwx6nyw). Initializing new run:<br/>"
            ]
          },
          "metadata": {}
        },
        {
          "output_type": "display_data",
          "data": {
            "text/plain": [
              "<IPython.core.display.HTML object>"
            ],
            "text/html": [
              "Tracking run with wandb version 0.12.11"
            ]
          },
          "metadata": {}
        },
        {
          "output_type": "display_data",
          "data": {
            "text/plain": [
              "<IPython.core.display.HTML object>"
            ],
            "text/html": [
              "Run data is saved locally in <code>/content/wandb/run-20220325_121408-2hk8om3c</code>"
            ]
          },
          "metadata": {}
        },
        {
          "output_type": "display_data",
          "data": {
            "text/plain": [
              "<IPython.core.display.HTML object>"
            ],
            "text/html": [
              "Syncing run <strong><a href=\"https://wandb.ai/paulcodrea/6_LSTM-precition_BTC_price/runs/2hk8om3c\" target=\"_blank\">smooth-fog-6</a></strong> to <a href=\"https://wandb.ai/paulcodrea/6_LSTM-precition_BTC_price\" target=\"_blank\">Weights & Biases</a> (<a href=\"https://wandb.me/run\" target=\"_blank\">docs</a>)<br/>"
            ]
          },
          "metadata": {}
        },
        {
          "output_type": "execute_result",
          "data": {
            "text/html": [
              "<button onClick=\"this.nextSibling.style.display='block';this.style.display='none';\">Display W&B run</button><iframe src=\"https://wandb.ai/paulcodrea/6_LSTM-precition_BTC_price/runs/2hk8om3c?jupyter=true\" style=\"border:none;width:100%;height:420px;display:none;\"></iframe>"
            ],
            "text/plain": [
              "<wandb.sdk.wandb_run.Run at 0x7fbeaedad890>"
            ]
          },
          "metadata": {},
          "execution_count": 78
        }
      ]
    },
    {
      "cell_type": "code",
      "source": [
        "wandb.config = {\n",
        "    \"learning_rate\": 0.001,\n",
        "    \"epochs\": 70, \n",
        "    \"batch_size\": 2,\n",
        "    \"train_p\": 0.55, \n",
        "    \"val_p\": 0.05, \n",
        "    \"LSTM_layer\": [50, 100],\n",
        "    \"Dropout_layer\": [0.15, 0.2],\n",
        "    \"activation\": 'tanh',\n",
        "    \"timesteps\": 2,\n",
        "}\n",
        "\n",
        "# Construct the metrics to store the results\n",
        "metrics_df = pd.DataFrame(columns=['script','epoch', 'batch_size','timesteps',\n",
        "                                   'train_p', 'val_p', 'test_p', 'loss', 'val_loss',\n",
        "                                   'mse', 'rmse', 'mae', 'mape', 'runtime', \n",
        "                                   'cross_correlation'])"
      ],
      "metadata": {
        "id": "bKD0YDNFCk_U"
      },
      "execution_count": 128,
      "outputs": []
    },
    {
      "cell_type": "code",
      "source": [
        "df = pd.read_csv('/content/drive/MyDrive/COMP30030_Dissertation_paul.codrea/Market-prediction/btc_only_specific_time.csv', parse_dates=True, index_col=\"time\")\n",
        "df.drop(columns=['Unnamed: 0'], inplace=True)"
      ],
      "metadata": {
        "id": "TIAuBmM0ISML"
      },
      "execution_count": 129,
      "outputs": []
    },
    {
      "cell_type": "code",
      "source": [
        "# Data normalization. This is one of the first steps to normalize the values. \n",
        "# The goal is to change the values of numeric columns in the data set to a common \n",
        "# scale, wihtout distorting differeces in the randes of values. \n",
        "\n",
        "df_values = df.values\n",
        "sc = MinMaxScaler()\n",
        "data_scaled = sc.fit_transform(df_values)"
      ],
      "metadata": {
        "id": "OmsP9D6IIgN_"
      },
      "execution_count": 130,
      "outputs": []
    },
    {
      "cell_type": "code",
      "source": [
        "# Splitting data into training and testing data \n",
        "train_index = int(wandb.config['train_p'] * len(data_scaled))\n",
        "val_index = train_index + int(wandb.config['val_p'] * \n",
        "                              len(data_scaled))\n",
        "\n",
        "train = data_scaled[:train_index]\n",
        "val = data_scaled[train_index:val_index]\n",
        "test = data_scaled[val_index:]"
      ],
      "metadata": {
        "id": "z9F_IGvLQqgN"
      },
      "execution_count": 131,
      "outputs": []
    },
    {
      "cell_type": "code",
      "source": [
        "print(\"train,test,val\",train.shape, test.shape, val.shape)"
      ],
      "metadata": {
        "colab": {
          "base_uri": "https://localhost:8080/"
        },
        "id": "q_9sp2nbhpPi",
        "outputId": "2be7c3fd-817f-4775-9b3b-16a9223dba7e"
      },
      "execution_count": 132,
      "outputs": [
        {
          "output_type": "stream",
          "name": "stdout",
          "text": [
            "train,test,val (100, 1) (73, 1) (9, 1)\n"
          ]
        }
      ]
    },
    {
      "cell_type": "code",
      "source": [
        "xtrain , ytrain =  train[:, :1], train[:, 0]\n",
        "xtest, ytest = test[:, :1], test[:, 0]\n",
        "xval , yval = val[:, :1], val[:, 0]"
      ],
      "metadata": {
        "id": "mc0zxz7LiQWH"
      },
      "execution_count": 133,
      "outputs": []
    },
    {
      "cell_type": "code",
      "source": [
        "# Samples -> these are the rows in the data.\n",
        "\n",
        "# Number of hours in the future?\n",
        " # Timesteps -> these are the past observations for a feature (such as lag variable).\n",
        " # input_shape is the shape of the training dataset.\n",
        "timesteps = wandb.config[\"timesteps\"]\n",
        "n_features = 1 # Columns in the data. Should be set to 1 since we only have 'close' column. \n",
        "\n",
        "train_len = len(xtrain) - timesteps\n",
        "test_len = len(xtest) - timesteps\n",
        "val_len = len(xval) - timesteps\n",
        "\n",
        "x_train = np.zeros((train_len, timesteps, n_features))\n",
        "y_train = np.zeros((train_len))\n",
        "for i in range(train_len):\n",
        "    ytemp = i + timesteps\n",
        "    x_train[i] = xtrain[i: ytemp]\n",
        "    y_train[i] = ytrain[ytemp]\n",
        "print(\"x_train\", x_train.shape)\n",
        "print(\"y_train\", y_train.shape)\n",
        "\n",
        "x_test = np.zeros((test_len, timesteps, n_features))\n",
        "y_test = np.zeros((test_len))\n",
        "for i in range(test_len):\n",
        "    ytemp = i + timesteps\n",
        "    x_test[i] = xtest[i: ytemp]\n",
        "    y_test[i] = ytest[ytemp]\n",
        "print(\"x_test\", x_test.shape)\n",
        "print(\"y_test\", y_test.shape)\n",
        "\n",
        "x_val = np.zeros((val_len, timesteps, n_features))\n",
        "y_val = np.zeros((val_len))\n",
        "for i in range(val_len):\n",
        "    ytemp = i + timesteps\n",
        "    x_val[i] = xval[i: ytemp]\n",
        "    y_val[i] = yval[ytemp]\n",
        "\n",
        "print(\"x_val\", x_val.shape)\n",
        "print(\"y_val\", y_val.shape)\n",
        "\n",
        "\n",
        "################################################################################\n",
        "# 2 hidden layers with 50 neurons each and a dropout between every one of them. \n",
        "# Start with Sequencial class. \n",
        "model = Sequential() \n",
        "\n",
        "# return_sequence will return a sequence rather than a single value for each input.\n",
        "# Sequential model -> as apipeline with raw data fed in\n",
        "model.add(LSTM(wandb.config['LSTM_layer'][0], input_shape = (timesteps, n_features), \n",
        "               return_sequences=True, activation=wandb.config['activation']))\n",
        "\n",
        "# Dropout Regularisation - method of ignoring and dropping random units during training. \n",
        "# This is essential to prevent overfitting. e.g. Dropout of 15%\n",
        "model.add(Dropout(wandb.config['Dropout_layer'][0]))\n",
        "model.add(LSTM(wandb.config['LSTM_layer'][1], activation=wandb.config['activation']))\n",
        "model.add(Dropout(wandb.config['Dropout_layer'][1]))\n",
        "model.add(Dense(1)) # This layer is at the end of the architecture and it is used for outputting a prediction.\n",
        "print(model.summary())\n",
        "\n",
        "# mean-squared-error loss function and Adam optimiser. MSE is a standard loss function for a regression model.\n",
        "# adam -> optimiser algorithm\n",
        "model.compile(loss = 'mean_squared_error', optimizer = 'adam')\n",
        "\n",
        "# Too many epochs can lead to overfitting of the training dataset, whereas too few may result in an underfit model.\n",
        "# Early stopping is a method that allows you to specify an arbitrary large number of training epochs and stop training \n",
        "# once the model performance stops improving on a hold out validation dataset.\n",
        "earlystop = EarlyStopping(monitor='val_loss', min_delta=0.0001, patience=80,  \n",
        "                          verbose=1, mode='min')\n",
        "\n",
        "start = time()\n",
        "print(\"start:\",0)\n",
        "history = model.fit(x_train, y_train, epochs = wandb.config['epochs'], \n",
        "                    batch_size=wandb.config['batch_size'], \n",
        "                    validation_data=(x_val, y_val), verbose = 1, \n",
        "                    shuffle = False, callbacks=[WandbCallback(), earlystop])\n",
        "\n",
        "# Print the time it took to run the code\n",
        "runtime = time()-start\n",
        "print(\"Time: %.4f\" % runtime)"
      ],
      "metadata": {
        "id": "daLgJ_8OTICC",
        "colab": {
          "base_uri": "https://localhost:8080/"
        },
        "outputId": "df1f1202-2f76-40a0-d52c-001b1d6ce16b"
      },
      "execution_count": 134,
      "outputs": [
        {
          "output_type": "stream",
          "name": "stdout",
          "text": [
            "x_train (98, 2, 1)\n",
            "y_train (98,)\n",
            "x_test (71, 2, 1)\n",
            "y_test (71,)\n",
            "x_val (7, 2, 1)\n",
            "y_val (7,)\n",
            "Model: \"sequential_6\"\n",
            "_________________________________________________________________\n",
            " Layer (type)                Output Shape              Param #   \n",
            "=================================================================\n",
            " lstm_12 (LSTM)              (None, 2, 50)             10400     \n",
            "                                                                 \n",
            " dropout_12 (Dropout)        (None, 2, 50)             0         \n",
            "                                                                 \n",
            " lstm_13 (LSTM)              (None, 100)               60400     \n",
            "                                                                 \n",
            " dropout_13 (Dropout)        (None, 100)               0         \n",
            "                                                                 \n",
            " dense_6 (Dense)             (None, 1)                 101       \n",
            "                                                                 \n",
            "=================================================================\n",
            "Total params: 70,901\n",
            "Trainable params: 70,901\n",
            "Non-trainable params: 0\n",
            "_________________________________________________________________\n",
            "None\n",
            "start: 0\n",
            "Epoch 1/70\n",
            "49/49 [==============================] - 4s 22ms/step - loss: 0.0955 - val_loss: 0.0044 - _timestamp: 1648211169.0000 - _runtime: 717.0000\n",
            "Epoch 2/70\n",
            "49/49 [==============================] - 0s 4ms/step - loss: 0.0530 - val_loss: 0.0068 - _timestamp: 1648211169.0000 - _runtime: 717.0000\n",
            "Epoch 3/70\n",
            "49/49 [==============================] - 0s 4ms/step - loss: 0.0430 - val_loss: 0.0011 - _timestamp: 1648211169.0000 - _runtime: 717.0000\n",
            "Epoch 4/70\n",
            "49/49 [==============================] - 0s 4ms/step - loss: 0.0315 - val_loss: 8.1229e-04 - _timestamp: 1648211169.0000 - _runtime: 717.0000\n",
            "Epoch 5/70\n",
            "49/49 [==============================] - 0s 4ms/step - loss: 0.0239 - val_loss: 9.8367e-04 - _timestamp: 1648211170.0000 - _runtime: 718.0000\n",
            "Epoch 6/70\n",
            "49/49 [==============================] - 0s 4ms/step - loss: 0.0197 - val_loss: 8.3974e-04 - _timestamp: 1648211170.0000 - _runtime: 718.0000\n",
            "Epoch 7/70\n",
            "49/49 [==============================] - 0s 5ms/step - loss: 0.0140 - val_loss: 0.0013 - _timestamp: 1648211170.0000 - _runtime: 718.0000\n",
            "Epoch 8/70\n",
            "49/49 [==============================] - 0s 4ms/step - loss: 0.0104 - val_loss: 9.6397e-04 - _timestamp: 1648211170.0000 - _runtime: 718.0000\n",
            "Epoch 9/70\n",
            "49/49 [==============================] - 0s 5ms/step - loss: 0.0076 - val_loss: 9.4503e-04 - _timestamp: 1648211171.0000 - _runtime: 719.0000\n",
            "Epoch 10/70\n",
            "49/49 [==============================] - 0s 5ms/step - loss: 0.0078 - val_loss: 0.0012 - _timestamp: 1648211171.0000 - _runtime: 719.0000\n",
            "Epoch 11/70\n",
            "49/49 [==============================] - 0s 5ms/step - loss: 0.0084 - val_loss: 0.0010 - _timestamp: 1648211171.0000 - _runtime: 719.0000\n",
            "Epoch 12/70\n",
            "49/49 [==============================] - 0s 4ms/step - loss: 0.0091 - val_loss: 0.0014 - _timestamp: 1648211171.0000 - _runtime: 719.0000\n",
            "Epoch 13/70\n",
            "49/49 [==============================] - 0s 4ms/step - loss: 0.0082 - val_loss: 0.0011 - _timestamp: 1648211171.0000 - _runtime: 719.0000\n",
            "Epoch 14/70\n",
            "49/49 [==============================] - 0s 4ms/step - loss: 0.0077 - val_loss: 0.0011 - _timestamp: 1648211172.0000 - _runtime: 720.0000\n",
            "Epoch 15/70\n",
            "49/49 [==============================] - 0s 5ms/step - loss: 0.0096 - val_loss: 0.0048 - _timestamp: 1648211172.0000 - _runtime: 720.0000\n",
            "Epoch 16/70\n",
            "49/49 [==============================] - 0s 4ms/step - loss: 0.0068 - val_loss: 9.6558e-04 - _timestamp: 1648211172.0000 - _runtime: 720.0000\n",
            "Epoch 17/70\n",
            "49/49 [==============================] - 0s 4ms/step - loss: 0.0079 - val_loss: 0.0011 - _timestamp: 1648211172.0000 - _runtime: 720.0000\n",
            "Epoch 18/70\n",
            "49/49 [==============================] - 0s 4ms/step - loss: 0.0081 - val_loss: 0.0015 - _timestamp: 1648211173.0000 - _runtime: 721.0000\n",
            "Epoch 19/70\n",
            "49/49 [==============================] - 0s 4ms/step - loss: 0.0104 - val_loss: 0.0015 - _timestamp: 1648211173.0000 - _runtime: 721.0000\n",
            "Epoch 20/70\n",
            "49/49 [==============================] - 0s 5ms/step - loss: 0.0081 - val_loss: 9.5312e-04 - _timestamp: 1648211173.0000 - _runtime: 721.0000\n",
            "Epoch 21/70\n",
            "49/49 [==============================] - 0s 5ms/step - loss: 0.0069 - val_loss: 0.0029 - _timestamp: 1648211173.0000 - _runtime: 721.0000\n",
            "Epoch 22/70\n",
            "49/49 [==============================] - 0s 5ms/step - loss: 0.0071 - val_loss: 0.0013 - _timestamp: 1648211174.0000 - _runtime: 722.0000\n",
            "Epoch 23/70\n",
            "49/49 [==============================] - 0s 5ms/step - loss: 0.0078 - val_loss: 0.0020 - _timestamp: 1648211174.0000 - _runtime: 722.0000\n",
            "Epoch 24/70\n",
            "49/49 [==============================] - 0s 5ms/step - loss: 0.0076 - val_loss: 9.6105e-04 - _timestamp: 1648211174.0000 - _runtime: 722.0000\n",
            "Epoch 25/70\n",
            "49/49 [==============================] - 0s 5ms/step - loss: 0.0082 - val_loss: 9.2624e-04 - _timestamp: 1648211174.0000 - _runtime: 722.0000\n",
            "Epoch 26/70\n",
            "49/49 [==============================] - 0s 5ms/step - loss: 0.0078 - val_loss: 0.0016 - _timestamp: 1648211175.0000 - _runtime: 723.0000\n",
            "Epoch 27/70\n",
            "49/49 [==============================] - 0s 5ms/step - loss: 0.0065 - val_loss: 0.0013 - _timestamp: 1648211175.0000 - _runtime: 723.0000\n",
            "Epoch 28/70\n",
            "49/49 [==============================] - 0s 5ms/step - loss: 0.0084 - val_loss: 0.0017 - _timestamp: 1648211175.0000 - _runtime: 723.0000\n",
            "Epoch 29/70\n",
            "49/49 [==============================] - 0s 4ms/step - loss: 0.0067 - val_loss: 0.0016 - _timestamp: 1648211175.0000 - _runtime: 723.0000\n",
            "Epoch 30/70\n",
            "49/49 [==============================] - 0s 4ms/step - loss: 0.0069 - val_loss: 0.0019 - _timestamp: 1648211175.0000 - _runtime: 723.0000\n",
            "Epoch 31/70\n",
            "49/49 [==============================] - 0s 4ms/step - loss: 0.0069 - val_loss: 8.4802e-04 - _timestamp: 1648211176.0000 - _runtime: 724.0000\n",
            "Epoch 32/70\n",
            "49/49 [==============================] - 0s 4ms/step - loss: 0.0067 - val_loss: 0.0019 - _timestamp: 1648211176.0000 - _runtime: 724.0000\n",
            "Epoch 33/70\n",
            "49/49 [==============================] - 0s 4ms/step - loss: 0.0077 - val_loss: 8.8728e-04 - _timestamp: 1648211176.0000 - _runtime: 724.0000\n",
            "Epoch 34/70\n",
            "49/49 [==============================] - 0s 4ms/step - loss: 0.0075 - val_loss: 0.0020 - _timestamp: 1648211176.0000 - _runtime: 724.0000\n",
            "Epoch 35/70\n",
            "49/49 [==============================] - 0s 4ms/step - loss: 0.0096 - val_loss: 0.0013 - _timestamp: 1648211177.0000 - _runtime: 725.0000\n",
            "Epoch 36/70\n",
            "49/49 [==============================] - 0s 5ms/step - loss: 0.0085 - val_loss: 0.0021 - _timestamp: 1648211177.0000 - _runtime: 725.0000\n",
            "Epoch 37/70\n",
            "49/49 [==============================] - 0s 5ms/step - loss: 0.0082 - val_loss: 0.0017 - _timestamp: 1648211177.0000 - _runtime: 725.0000\n",
            "Epoch 38/70\n",
            "49/49 [==============================] - 0s 5ms/step - loss: 0.0062 - val_loss: 0.0022 - _timestamp: 1648211177.0000 - _runtime: 725.0000\n",
            "Epoch 39/70\n",
            "49/49 [==============================] - 0s 5ms/step - loss: 0.0073 - val_loss: 0.0035 - _timestamp: 1648211177.0000 - _runtime: 725.0000\n",
            "Epoch 40/70\n",
            "49/49 [==============================] - 0s 5ms/step - loss: 0.0073 - val_loss: 0.0032 - _timestamp: 1648211178.0000 - _runtime: 726.0000\n",
            "Epoch 41/70\n",
            "49/49 [==============================] - 0s 5ms/step - loss: 0.0082 - val_loss: 0.0015 - _timestamp: 1648211178.0000 - _runtime: 726.0000\n",
            "Epoch 42/70\n",
            "49/49 [==============================] - 0s 5ms/step - loss: 0.0100 - val_loss: 0.0022 - _timestamp: 1648211178.0000 - _runtime: 726.0000\n",
            "Epoch 43/70\n",
            "49/49 [==============================] - 0s 4ms/step - loss: 0.0080 - val_loss: 0.0033 - _timestamp: 1648211178.0000 - _runtime: 726.0000\n",
            "Epoch 44/70\n",
            "49/49 [==============================] - 0s 5ms/step - loss: 0.0085 - val_loss: 0.0038 - _timestamp: 1648211179.0000 - _runtime: 727.0000\n",
            "Epoch 45/70\n",
            "49/49 [==============================] - 0s 5ms/step - loss: 0.0101 - val_loss: 0.0031 - _timestamp: 1648211179.0000 - _runtime: 727.0000\n",
            "Epoch 46/70\n",
            "49/49 [==============================] - 0s 5ms/step - loss: 0.0109 - val_loss: 0.0054 - _timestamp: 1648211179.0000 - _runtime: 727.0000\n",
            "Epoch 47/70\n",
            "49/49 [==============================] - 0s 5ms/step - loss: 0.0136 - val_loss: 0.0040 - _timestamp: 1648211179.0000 - _runtime: 727.0000\n",
            "Epoch 48/70\n",
            "49/49 [==============================] - 0s 4ms/step - loss: 0.0121 - val_loss: 0.0098 - _timestamp: 1648211180.0000 - _runtime: 728.0000\n",
            "Epoch 49/70\n",
            "49/49 [==============================] - 0s 4ms/step - loss: 0.0136 - val_loss: 0.0104 - _timestamp: 1648211180.0000 - _runtime: 728.0000\n",
            "Epoch 50/70\n",
            "49/49 [==============================] - 0s 5ms/step - loss: 0.0141 - val_loss: 0.0133 - _timestamp: 1648211180.0000 - _runtime: 728.0000\n",
            "Epoch 51/70\n",
            "49/49 [==============================] - 0s 5ms/step - loss: 0.0149 - val_loss: 0.0169 - _timestamp: 1648211180.0000 - _runtime: 728.0000\n",
            "Epoch 52/70\n",
            "49/49 [==============================] - 0s 4ms/step - loss: 0.0147 - val_loss: 0.0153 - _timestamp: 1648211181.0000 - _runtime: 729.0000\n",
            "Epoch 53/70\n",
            "49/49 [==============================] - 0s 4ms/step - loss: 0.0141 - val_loss: 0.0222 - _timestamp: 1648211181.0000 - _runtime: 729.0000\n",
            "Epoch 54/70\n",
            "49/49 [==============================] - 0s 4ms/step - loss: 0.0145 - val_loss: 0.0155 - _timestamp: 1648211181.0000 - _runtime: 729.0000\n",
            "Epoch 55/70\n",
            "49/49 [==============================] - 0s 5ms/step - loss: 0.0150 - val_loss: 0.0166 - _timestamp: 1648211181.0000 - _runtime: 729.0000\n",
            "Epoch 56/70\n",
            "49/49 [==============================] - 0s 4ms/step - loss: 0.0168 - val_loss: 0.0188 - _timestamp: 1648211181.0000 - _runtime: 729.0000\n",
            "Epoch 57/70\n",
            "49/49 [==============================] - 0s 5ms/step - loss: 0.0142 - val_loss: 0.0220 - _timestamp: 1648211182.0000 - _runtime: 730.0000\n",
            "Epoch 58/70\n",
            "49/49 [==============================] - 0s 4ms/step - loss: 0.0131 - val_loss: 0.0278 - _timestamp: 1648211182.0000 - _runtime: 730.0000\n",
            "Epoch 59/70\n",
            "49/49 [==============================] - 0s 5ms/step - loss: 0.0115 - val_loss: 0.0229 - _timestamp: 1648211182.0000 - _runtime: 730.0000\n",
            "Epoch 60/70\n",
            "49/49 [==============================] - 0s 5ms/step - loss: 0.0128 - val_loss: 0.0143 - _timestamp: 1648211182.0000 - _runtime: 730.0000\n",
            "Epoch 61/70\n",
            "49/49 [==============================] - 0s 4ms/step - loss: 0.0111 - val_loss: 0.0171 - _timestamp: 1648211183.0000 - _runtime: 731.0000\n",
            "Epoch 62/70\n",
            "49/49 [==============================] - 0s 4ms/step - loss: 0.0101 - val_loss: 0.0189 - _timestamp: 1648211183.0000 - _runtime: 731.0000\n",
            "Epoch 63/70\n",
            "49/49 [==============================] - 0s 4ms/step - loss: 0.0127 - val_loss: 0.0203 - _timestamp: 1648211183.0000 - _runtime: 731.0000\n",
            "Epoch 64/70\n",
            "49/49 [==============================] - 0s 5ms/step - loss: 0.0123 - val_loss: 0.0163 - _timestamp: 1648211183.0000 - _runtime: 731.0000\n",
            "Epoch 65/70\n",
            "49/49 [==============================] - 0s 4ms/step - loss: 0.0110 - val_loss: 0.0255 - _timestamp: 1648211184.0000 - _runtime: 732.0000\n",
            "Epoch 66/70\n",
            "49/49 [==============================] - 0s 4ms/step - loss: 0.0114 - val_loss: 0.0189 - _timestamp: 1648211184.0000 - _runtime: 732.0000\n",
            "Epoch 67/70\n",
            "49/49 [==============================] - 0s 4ms/step - loss: 0.0116 - val_loss: 0.0129 - _timestamp: 1648211184.0000 - _runtime: 732.0000\n",
            "Epoch 68/70\n",
            "49/49 [==============================] - 0s 4ms/step - loss: 0.0107 - val_loss: 0.0145 - _timestamp: 1648211184.0000 - _runtime: 732.0000\n",
            "Epoch 69/70\n",
            "49/49 [==============================] - 0s 5ms/step - loss: 0.0121 - val_loss: 0.0196 - _timestamp: 1648211184.0000 - _runtime: 732.0000\n",
            "Epoch 70/70\n",
            "49/49 [==============================] - 0s 5ms/step - loss: 0.0105 - val_loss: 0.0177 - _timestamp: 1648211185.0000 - _runtime: 733.0000\n",
            "Time: 23.0815\n"
          ]
        }
      ]
    },
    {
      "cell_type": "code",
      "source": [
        "# Plotting data \n",
        "loss = history.history['loss']\n",
        "val_loss = history.history['val_loss']\n",
        "epochs = range(len(loss))\n",
        "plt.figure(figsize=(10, 8))\n",
        "plt.plot(epochs, loss, 'b', label='Training loss')\n",
        "plt.plot(epochs, val_loss, 'orange', label='Validation loss')\n",
        "plt.title(\"Training and Validation loss\")\n",
        "plt.legend()\n",
        "plt.show()\n",
        "\n",
        "# Predict the model\n",
        "y_pred = model.predict(x_test)\n",
        "\n",
        "# Print out Mean Squared Error (MSE)\n",
        "mse = np.mean((y_pred - y_test)**2)\n",
        "print(\"MSE: %.4f\" % mse)\n",
        "\n",
        "# Print out Root Mean Squared Error (RMSE)\n",
        "rmse = np.sqrt(mse)\n",
        "print(\"RMSE: %.4f\" % rmse)\n",
        "\n",
        "# Print out Mean Absolute Error (MAE)\n",
        "mae = np.mean(np.abs(y_pred - y_test))\n",
        "print(\"MAE: %.4f\" % mae)\n",
        "\n",
        "# Print out Mean Absolute Percentage Error (MAPE)\n",
        "mape = np.mean(np.abs((y_pred - y_test) / y_test)) * 100\n",
        "print(\"MAPE (percentage): %.4f\" % mape)\n",
        "\n",
        "# Invers Scaling \n",
        "actual_price = sc.inverse_transform([y_test])\n",
        "actual_price = np.reshape(actual_price, (actual_price.shape[1], 1))\n",
        "predicted_price = sc.inverse_transform(y_pred)\n",
        "\n",
        "# Plotting the prediction\n",
        "plt.figure(figsize=(18,8))\n",
        "plt.plot(actual_price, '.-', color='red', label='Real market values', alpha=0.5)\n",
        "plt.plot(predicted_price, '.-', color='blue', label='Predicted values', alpha=1)\n",
        "plt.title(\"Bitcoin Price Prediction using RNN-LSTM\")\n",
        "plt.xlabel(\"Units of time\")\n",
        "plt.ylabel(\"Price\")\n",
        "plt.legend()\n",
        "plt.show()"
      ],
      "metadata": {
        "colab": {
          "base_uri": "https://localhost:8080/",
          "height": 1000
        },
        "id": "UyGCR4EZiqtF",
        "outputId": "408df3e4-e471-4f32-f013-2b7a00495d9d"
      },
      "execution_count": 135,
      "outputs": [
        {
          "output_type": "display_data",
          "data": {
            "text/plain": [
              "<Figure size 720x576 with 1 Axes>"
            ],
            "image/png": "[encoded data removed]"
          },
          "metadata": {
            "needs_background": "light"
          }
        },
        {
          "output_type": "stream",
          "name": "stdout",
          "text": [
            "MSE: 0.0659\n",
            "RMSE: 0.2567\n",
            "MAE: 0.2116\n",
            "MAPE (percentage): 92.1691\n"
          ]
        },
        {
          "output_type": "display_data",
          "data": {
            "text/plain": [
              "<Figure size 1296x576 with 1 Axes>"
            ],
            "image/png": "[encoded data removed]"
          },
          "metadata": {
            "needs_background": "light"
          }
        }
      ]
    },
    {
      "cell_type": "markdown",
      "source": [
        "## Cross-correlation analysis"
      ],
      "metadata": {
        "id": "MNdEeny9Uz7r"
      }
    },
    {
      "cell_type": "code",
      "source": [
        "actual_price_df = pd.DataFrame(y_test, columns=['price'])\n",
        "predicted_price_df = pd.DataFrame(y_pred, columns=['price'])"
      ],
      "metadata": {
        "id": "WlHmxF4YU2gS"
      },
      "execution_count": 136,
      "outputs": []
    },
    {
      "cell_type": "code",
      "source": [
        "def crosscorr(datax, datay, lag=0, method=\"pearson\"):\n",
        "    \"\"\" Lag-N cross correlation. \n",
        "    Parameters\n",
        "    —------—\n",
        "    lag : int, default 0\n",
        "    datax, datay : pandas.Series objects of equal length\n",
        "\n",
        "    Returns\n",
        "    —------—\n",
        "    crosscorr : float\n",
        "    \"\"\"\n",
        "    return datax.corr(datay.shift(lag), method=method)"
      ],
      "metadata": {
        "id": "3ReLNFjPUrOD"
      },
      "execution_count": 137,
      "outputs": []
    },
    {
      "cell_type": "code",
      "source": [
        "# Calculate the Pearson Cross Correlation for lag 0\n",
        "curr_corr = crosscorr(predicted_price_df['price'], actual_price_df['price'], \n",
        "                      method=\"pearson\")\n",
        "\n",
        "# Print out the Correlation for lag 0\n",
        "print(f\"Pearson CC for lag 0: {curr_corr}\")\n",
        "\n",
        "# Process of improving the CC value\n",
        "xcov = [crosscorr(predicted_price_df['price'], actual_price_df['price'], lag=i, method=\"pearson\") for i in range(-len(actual_price_df), len(actual_price_df))]\n",
        "\n",
        "# Identify the lag that maximizes the correlation\n",
        "lag_max = np.argmax(xcov)\n",
        "print(f\"Lag that maximizes the correlation {lag_max}\\n\\n\")\n",
        "\n",
        "plt.figure(figsize=(18,8))\n",
        "plt.plot(xcov, '.-', color='blue', label='Cross-correlation', alpha=1)\n",
        "plt.title(\"Cross-correlation between actual and predicted values\")\n",
        "plt.xlabel(\"Units of time\")\n",
        "plt.ylabel(\"Cross-correlation\")\n",
        "plt.legend()\n",
        "plt.show()\n",
        "\n",
        "\n",
        "# If the Lag is different from 0 then shift the predicted price df and plot again\n",
        "if lag_max != 0:\n",
        "  # Use the lag value to shift the predicted values to align with the actual values\n",
        "  predicted_price_df['price'] = predicted_price_df['price'].shift(lag_max)\n",
        "\n",
        "\n",
        "  plt.figure(figsize=(18,8))\n",
        "  plt.plot(predicted_price_df, '.-', color='blue', label='Predicted values', alpha=1)\n",
        "  plt.plot(actual_price_df, '.-', color='red', label='Real market values', alpha=0.5)\n",
        "  plt.title(\"Predicted values\")\n",
        "  plt.xlabel(\"Units of time\")\n",
        "  plt.ylabel(\"Price\")\n",
        "  plt.legend()\n",
        "else:\n",
        "  print(\"\\n\\n No changes to current plotting\")"
      ],
      "metadata": {
        "colab": {
          "base_uri": "https://localhost:8080/",
          "height": 676
        },
        "id": "4BqY1MIaUuJE",
        "outputId": "d8e4b1de-27b3-4db9-8720-2e2ee37829e2"
      },
      "execution_count": 138,
      "outputs": [
        {
          "output_type": "stream",
          "name": "stdout",
          "text": [
            "Pearson CC for lag 0: 0.9565448738790139\n",
            "Lag that maximizes the correlation 0\n",
            "\n",
            "\n"
          ]
        },
        {
          "output_type": "stream",
          "name": "stderr",
          "text": [
            "/usr/local/lib/python3.7/dist-packages/numpy/lib/function_base.py:2683: RuntimeWarning: Degrees of freedom <= 0 for slice\n",
            "  c = cov(x, y, rowvar, dtype=dtype)\n",
            "/usr/local/lib/python3.7/dist-packages/numpy/lib/function_base.py:2542: RuntimeWarning: divide by zero encountered in true_divide\n",
            "  c *= np.true_divide(1, fact)\n"
          ]
        },
        {
          "output_type": "display_data",
          "data": {
            "text/plain": [
              "<Figure size 1296x576 with 1 Axes>"
            ],
            "image/png": "[encoded data removed]"
          },
          "metadata": {
            "needs_background": "light"
          }
        },
        {
          "output_type": "stream",
          "name": "stdout",
          "text": [
            "\n",
            "\n",
            " No changes to current plotting\n"
          ]
        }
      ]
    },
    {
      "cell_type": "markdown",
      "source": [
        "### Save metrics"
      ],
      "metadata": {
        "id": "s6I9TVnI-bN8"
      }
    },
    {
      "cell_type": "code",
      "source": [
        "# add values to metrics_df\n",
        "metrics_df = metrics_df.append({'script': 'LSTM_price', \n",
        "                                'epoch': wandb.config['epochs'], \n",
        "                                'batch_size': wandb.config['batch_size'], \n",
        "                                'timesteps': wandb.config['timesteps'],\n",
        "                                'train_p': wandb.config['train_p'] * 100, \n",
        "                                'val_p': wandb.config['val_p'] * 100,\n",
        "                                'test_p': (1 - wandb.config['train_p'] - wandb.config['val_p']) * 100,\n",
        "                                'loss': min(loss), 'val_loss': min(val_loss), \n",
        "                                'mse': mse, 'rmse': rmse, 'mae': mae, 'mape': mape, \n",
        "                                'runtime': runtime, 'cross_correlation':curr_corr}, \n",
        "                               ignore_index=True)"
      ],
      "metadata": {
        "id": "MeymLX3s-efS"
      },
      "execution_count": 139,
      "outputs": []
    },
    {
      "cell_type": "markdown",
      "source": [
        "## Forecast upcoming 'n_hours'"
      ],
      "metadata": {
        "id": "ZNan1CD1dKM_"
      }
    },
    {
      "cell_type": "code",
      "source": [
        "n_hours = 4\n",
        "\n",
        "# Prepare dataset based on xtest\n",
        "xtest_copy = xtest.copy()\n",
        "xtest_copy = np.append(xtest_copy, np.zeros((n_hours, 1)), axis=0)\n",
        "\n",
        "# Forecast the price based on the model build\n",
        "y_pred_forecast = model.predict(xtest_copy)\n",
        "forecast_price = sc.inverse_transform(y_pred_forecast)"
      ],
      "metadata": {
        "colab": {
          "base_uri": "https://localhost:8080/"
        },
        "id": "I8vSGGpvtuQz",
        "outputId": "008234f8-fa7b-4111-df26-3675e5b4cf52"
      },
      "execution_count": 140,
      "outputs": [
        {
          "output_type": "stream",
          "name": "stdout",
          "text": [
            "WARNING:tensorflow:Model was constructed with shape (None, 2, 1) for input KerasTensor(type_spec=TensorSpec(shape=(None, 2, 1), dtype=tf.float32, name='lstm_12_input'), name='lstm_12_input', description=\"created by layer 'lstm_12_input'\"), but it was called on an input with incompatible shape (None, 1, 1).\n"
          ]
        }
      ]
    },
    {
      "cell_type": "code",
      "source": [
        "plt.figure(figsize=(18,8))\n",
        "plt.plot(actual_price, '.-', color='red', label='Real market values', alpha=0.5)\n",
        "plt.plot(forecast_price, '.-', color='blue', label='Predicted values', alpha=1)\n",
        "plt.title(\"Bitcoin Price Prediction using RNN-LSTM\")\n",
        "plt.xlabel(\"Time\")\n",
        "plt.ylabel(\"Price\")\n",
        "plt.legend()\n",
        "plt.show()"
      ],
      "metadata": {
        "id": "buOFOQAcfmbZ",
        "colab": {
          "base_uri": "https://localhost:8080/",
          "height": 453
        },
        "outputId": "e3008748-2270-4ebd-e90b-9ab7afff96f7"
      },
      "execution_count": 141,
      "outputs": [
        {
          "output_type": "display_data",
          "data": {
            "text/plain": [
              "<Figure size 1296x576 with 1 Axes>"
            ],
            "image/png": "[encoded data removed]"
          },
          "metadata": {
            "needs_background": "light"
          }
        }
      ]
    },
    {
      "cell_type": "code",
      "source": [
        "# Print out statistics of the forecasted price\n",
        "print(f\"Forecasted price: {forecast_price[-1]}\")\n",
        "# Compare the price based on the n_hours before the actual price\n",
        "print(f\"Actual price: {actual_price[-1]}\")\n",
        "\n",
        "# Print out if the price will go down or up\n",
        "if forecast_price[-1] > actual_price[-1]:\n",
        "    print(f\"Price will go up in the following {n_hours} hours\")\n",
        "else:\n",
        "    print(f\"Price will go down in the following {n_hours} hours\")"
      ],
      "metadata": {
        "colab": {
          "base_uri": "https://localhost:8080/"
        },
        "id": "zo6dJU1qqnFW",
        "outputId": "522895c2-2d8a-4a75-eedf-9025961e48e5"
      },
      "execution_count": 142,
      "outputs": [
        {
          "output_type": "stream",
          "name": "stdout",
          "text": [
            "Forecasted price: [38479.125]\n",
            "Actual price: [38398.59]\n",
            "Price will go up in the following 4 hours\n"
          ]
        }
      ]
    },
    {
      "cell_type": "markdown",
      "source": [
        "## Collect data from the LSTM model and save it as a CSV"
      ],
      "metadata": {
        "id": "pvImigSu3nb4"
      }
    },
    {
      "cell_type": "code",
      "source": [
        "for file in os.listdir('/content/drive/MyDrive/COMP30030_Dissertation_paul.codrea/'):\n",
        "    if file.endswith('metrics.csv'):\n",
        "        metrics_df.to_csv(file, mode='a', header=False, index=False)\n",
        "        break\n",
        "    else:\n",
        "        metrics_df.to_csv('/content/drive/MyDrive/COMP30030_Dissertation_paul.codrea/metrics.csv', index=False)"
      ],
      "metadata": {
        "id": "WDWObrvM3eU3"
      },
      "execution_count": 143,
      "outputs": []
    }
  ]
}