{
  "nbformat": 4,
  "nbformat_minor": 0,
  "metadata": {
    "colab": {
      "name": "7_LSTM-prediction_BTC_price-and-sentiment.ipynb",
      "provenance": [],
      "collapsed_sections": [],
      "mount_file_id": "17vTajrER-fGwgb7OLdFGu2b8tSQtbIvz",
      "authorship_tag": "ABX9TyPOZtM1e0qDKdufLeOY19C7",
      "include_colab_link": true
    },
    "kernelspec": {
      "name": "python3",
      "display_name": "Python 3"
    },
    "language_info": {
      "name": "python"
    }
  },
  "cells": [
    {
      "cell_type": "markdown",
      "metadata": {
        "id": "view-in-github",
        "colab_type": "text"
      },
      "source": [
        "<a href=\"https://colab.research.google.com/github/paulcodrea/dissertation/blob/main/7_LSTM_prediction_BTC_price_and_sentiment.ipynb\" target=\"_parent\"><img src=\"https://colab.research.google.com/assets/colab-badge.svg\" alt=\"Open In Colab\"/></a>"
      ]
    },
    {
      "cell_type": "code",
      "execution_count": 12,
      "metadata": {
        "id": "2V9Z9wsTF-3L"
      },
      "outputs": [],
      "source": [
        "import pandas as pd\n",
        "import numpy as np\n",
        "import matplotlib\n",
        "# matplotlib.use(\"TkAgg\")\n",
        "import matplotlib.pyplot as plt\n",
        "import tensorflow as tf\n",
        "from time import time\n",
        "from keras.models import Sequential, load_model\n",
        "from keras.layers.core import Dense, Activation, Dropout, Flatten\n",
        "from keras.layers import LSTM\n",
        "# from keras.optimizers import Adam\n",
        "from time import time\n",
        "from keras.callbacks import EarlyStopping\n",
        "from sklearn.metrics import r2_score\n",
        "from sklearn.preprocessing import MinMaxScaler\n",
        "sc = MinMaxScaler()"
      ]
    },
    {
      "cell_type": "code",
      "source": [
        "df = pd.read_csv('/content/drive/MyDrive/COMP30030_Dissertation_paul.codrea/Market-prediction/final_price-and-compund.csv', parse_dates=True, index_col=\"date\")\n",
        "# df.drop(columns=['Unnamed: 0'], inplace=True)"
      ],
      "metadata": {
        "id": "f-bHnQa4IvU2"
      },
      "execution_count": 14,
      "outputs": []
    },
    {
      "cell_type": "code",
      "source": [
        "print(df.head())"
      ],
      "metadata": {
        "colab": {
          "base_uri": "https://localhost:8080/"
        },
        "id": "vA8fvBjaI3Ui",
        "outputId": "85eab35f-f8f3-411f-badb-3d262b551278"
      },
      "execution_count": 15,
      "outputs": [
        {
          "output_type": "stream",
          "name": "stdout",
          "text": [
            "                        close   compund\n",
            "date                                   \n",
            "2022-02-27 11:00:00  39506.94  0.274132\n",
            "2022-02-27 12:00:00  39772.65  0.278059\n",
            "2022-02-27 13:00:00  39087.32  0.306857\n",
            "2022-02-27 14:00:00  38805.72  0.254048\n",
            "2022-02-27 15:00:00  39375.33  0.216537\n"
          ]
        }
      ]
    },
    {
      "cell_type": "code",
      "source": [
        "# Data normalization. This is one of the first steps to normalize the values. \n",
        "# The goal is to change the values of numeric columns in the data set to a common scale, wihtout distorting differeces in the randes of values. \n",
        "df_values = df.values\n",
        "sc = MinMaxScaler()\n",
        "data_scaled = sc.fit_transform(df_values)\n",
        "\n",
        "print(len(data_scaled))\n",
        "print(data_scaled.size)\n",
        "print(data_scaled)"
      ],
      "metadata": {
        "colab": {
          "base_uri": "https://localhost:8080/"
        },
        "id": "MQ3M45WdIz-g",
        "outputId": "e0d748a2-2097-40d0-b47e-63c74c58e7f3"
      },
      "execution_count": 16,
      "outputs": [
        {
          "output_type": "stream",
          "name": "stdout",
          "text": [
            "182\n",
            "364\n",
            "[[0.27965431 0.24901321]\n",
            " [0.3156697  0.25994048]\n",
            " [0.22277735 0.34007824]\n",
            " [0.18460817 0.1931256 ]\n",
            " [0.26181537 0.0887407 ]\n",
            " [0.22671897 0.20032628]\n",
            " [0.21004571 0.35032354]\n",
            " [0.20168264 0.09777226]\n",
            " [0.02457683 0.30269225]\n",
            " [0.07229508 0.20490254]\n",
            " [0.         0.1654973 ]\n",
            " [0.05355613 0.22806161]\n",
            " [0.03676223 0.26001636]\n",
            " [0.01922827 0.18415502]\n",
            " [0.07405445 0.40075899]\n",
            " [0.04431881 0.40993505]\n",
            " [0.0502475  0.43965789]\n",
            " [0.05257479 0.36036653]\n",
            " [0.05482211 0.43245664]\n",
            " [0.07378742 0.31842935]\n",
            " [0.12525482 0.30048893]\n",
            " [0.12033593 0.10501928]\n",
            " [0.09300214 0.27727956]\n",
            " [0.12861902 0.29468451]\n",
            " [0.12337754 0.30143521]\n",
            " [0.11548346 0.20017973]\n",
            " [0.07918614 0.51899318]\n",
            " [0.32605779 0.7221433 ]\n",
            " [0.46112735 0.481337  ]\n",
            " [0.48498579 0.32275391]\n",
            " [0.52535079 0.38480974]\n",
            " [0.51150226 0.38661728]\n",
            " [0.53052315 0.31632702]\n",
            " [0.59829106 0.29203485]\n",
            " [0.56978481 0.34654085]\n",
            " [0.7907269  0.18325472]\n",
            " [0.77879767 0.02092632]\n",
            " [0.82989503 0.        ]\n",
            " [0.79104542 0.09111668]\n",
            " [0.77848999 0.15438526]\n",
            " [0.77620065 0.15489203]\n",
            " [0.8026385  0.19961546]\n",
            " [0.78398358 0.22415903]\n",
            " [0.81712679 0.37077375]\n",
            " [0.82140321 0.3339755 ]\n",
            " [0.82654845 0.23862273]\n",
            " [0.78967778 0.23798517]\n",
            " [0.83393153 0.4447743 ]\n",
            " [0.83916489 0.48735969]\n",
            " [0.97577558 0.29892715]\n",
            " [0.95467139 0.44465678]\n",
            " [0.8813543  0.25521453]\n",
            " [0.83330261 0.30031092]\n",
            " [0.808719   0.32707367]\n",
            " [0.85171219 0.44853801]\n",
            " [0.86784328 0.4524008 ]\n",
            " [0.85468467 0.40195468]\n",
            " [0.8971262  0.46274633]\n",
            " [0.87116275 0.48364495]\n",
            " [0.9129496  0.37830899]\n",
            " [0.946738   0.39536294]\n",
            " [0.92958355 0.50416998]\n",
            " [0.8953831  0.708928  ]\n",
            " [0.91040679 0.74957327]\n",
            " [0.93651121 0.81184594]\n",
            " [0.92578561 1.        ]\n",
            " [0.92874318 0.8843053 ]\n",
            " [0.88468868 0.82698862]\n",
            " [0.88714474 0.66703667]\n",
            " [0.86958366 0.52159027]\n",
            " [0.87772986 0.55628326]\n",
            " [0.91178257 0.62395208]\n",
            " [0.90687316 0.62841123]\n",
            " [0.89120428 0.6167818 ]\n",
            " [0.82964021 0.63378584]\n",
            " [1.         0.55570294]\n",
            " [0.91351888 0.50217961]\n",
            " [0.92592929 0.51325154]\n",
            " [0.86290541 0.53791979]\n",
            " [0.83631033 0.58317101]\n",
            " [0.85172168 0.45452366]\n",
            " [0.86286475 0.42368447]\n",
            " [0.89856432 0.41195925]\n",
            " [0.90375294 0.52003514]\n",
            " [0.87990127 0.52439094]\n",
            " [0.88855033 0.28744759]\n",
            " [0.86726993 0.13942112]\n",
            " [0.86607036 0.16660382]\n",
            " [0.80007943 0.27269381]\n",
            " [0.81425733 0.34091774]\n",
            " [0.80462693 0.42556925]\n",
            " [0.81632708 0.36490498]\n",
            " [0.8177381  0.40593574]\n",
            " [0.81435221 0.4786726 ]\n",
            " [0.77700578 0.46896798]\n",
            " [0.80388957 0.23789882]\n",
            " [0.81046074 0.41676814]\n",
            " [0.83353303 0.30990235]\n",
            " [0.88381442 0.09514087]\n",
            " [0.82161059 0.16609692]\n",
            " [0.69560214 0.23467218]\n",
            " [0.67670867 0.21233395]\n",
            " [0.67313437 0.24896767]\n",
            " [0.65363502 0.07960351]\n",
            " [0.64792997 0.08284479]\n",
            " [0.62019903 0.37429991]\n",
            " [0.63421835 0.31473152]\n",
            " [0.68766875 0.27117601]\n",
            " [0.68187154 0.25852841]\n",
            " [0.56438203 0.37551794]\n",
            " [0.55455238 0.2171064 ]\n",
            " [0.53966288 0.19189945]\n",
            " [0.54551973 0.30002903]\n",
            " [0.53424654 0.38069016]\n",
            " [0.53069664 0.30823385]\n",
            " [0.5368029  0.39853209]\n",
            " [0.54016845 0.22388587]\n",
            " [0.55386382 0.2469654 ]\n",
            " [0.55290145 0.30516724]\n",
            " [0.57416424 0.31356579]\n",
            " [0.58055107 0.40219755]\n",
            " [0.54721132 0.491896  ]\n",
            " [0.52777025 0.19156361]\n",
            " [0.49992138 0.34333071]\n",
            " [0.4422664  0.28859992]\n",
            " [0.45053323 0.37368051]\n",
            " [0.46232149 0.28302118]\n",
            " [0.43087393 0.31482374]\n",
            " [0.31268637 0.23245887]\n",
            " [0.28180946 0.13377901]\n",
            " [0.26459809 0.15919214]\n",
            " [0.2157765  0.13565814]\n",
            " [0.23186964 0.31865023]\n",
            " [0.18137409 0.2159389 ]\n",
            " [0.20860216 0.2919585 ]\n",
            " [0.20039226 0.18468412]\n",
            " [0.22037822 0.18923769]\n",
            " [0.19330467 0.0668461 ]\n",
            " [0.21176982 0.03371272]\n",
            " [0.20831888 0.20631291]\n",
            " [0.21594865 0.30453272]\n",
            " [0.22494334 0.23678428]\n",
            " [0.21771614 0.28751279]\n",
            " [0.23180051 0.39670023]\n",
            " [0.2319225  0.40002031]\n",
            " [0.22383324 0.49202465]\n",
            " [0.21482905 0.39205549]\n",
            " [0.22907201 0.39280572]\n",
            " [0.23638868 0.55481993]\n",
            " [0.26325349 0.61429793]\n",
            " [0.27214924 0.51380126]\n",
            " [0.26631272 0.44341287]\n",
            " [0.27093748 0.38997477]\n",
            " [0.27744088 0.41183099]\n",
            " [0.26138434 0.32990053]\n",
            " [0.2741458  0.4502875 ]\n",
            " [0.26611076 0.49703951]\n",
            " [0.29257571 0.30097141]\n",
            " [0.27312651 0.39960723]\n",
            " [0.2826932  0.3590454 ]\n",
            " [0.25621876 0.3742742 ]\n",
            " [0.27616134 0.33344384]\n",
            " [0.2798129  0.42030223]\n",
            " [0.27701527 0.31428851]\n",
            " [0.26740385 0.54062622]\n",
            " [0.23142506 0.60909847]\n",
            " [0.17512822 0.51383209]\n",
            " [0.11182106 0.43870068]\n",
            " [0.12197737 0.3261702 ]\n",
            " [0.14865649 0.29863421]\n",
            " [0.2001144  0.27090607]\n",
            " [0.18877615 0.43929904]\n",
            " [0.19129726 0.42967503]\n",
            " [0.23950483 0.43650739]\n",
            " [0.21291788 0.44305719]\n",
            " [0.1893495  0.41514234]\n",
            " [0.1693649  0.43635896]\n",
            " [0.19209562 0.28358246]\n",
            " [0.21230251 0.38129227]\n",
            " [0.20727112 0.33480231]\n",
            " [0.1335352  0.21196095]\n",
            " [0.12942416 0.36173854]]\n"
          ]
        }
      ]
    },
    {
      "cell_type": "code",
      "source": [
        "# Splitting data into training and testing data \n",
        "\n",
        "train_index = int(0.7 * len(data_scaled))\n",
        "val_index = train_index + int(0.05 * len(data_scaled))\n",
        "\n",
        "train = data_scaled[:train_index]\n",
        "val = data_scaled[train_index:val_index]\n",
        "test = data_scaled[val_index:]"
      ],
      "metadata": {
        "id": "oZzFVdPwI9MV"
      },
      "execution_count": 17,
      "outputs": []
    },
    {
      "cell_type": "code",
      "source": [
        "print(\"train,test,val\",train.shape, test.shape, val.shape)"
      ],
      "metadata": {
        "colab": {
          "base_uri": "https://localhost:8080/"
        },
        "id": "qdXLzbN-JB1F",
        "outputId": "2c9a7559-8f07-4055-e0c0-c01f3b4e80ff"
      },
      "execution_count": 18,
      "outputs": [
        {
          "output_type": "stream",
          "name": "stdout",
          "text": [
            "train,test,val (127, 2) (46, 2) (9, 2)\n"
          ]
        }
      ]
    },
    {
      "cell_type": "code",
      "source": [
        "xtrain, ytrain = train[:, :2], train[:, 1]\n",
        "# Get xtest and ytest\n",
        "xtest, ytest = test[:, :2], test[:, 1]\n",
        "# Get xval and yval\n",
        "xval, yval = val[:, :2], val[:, 1]\n",
        "\n",
        "\n",
        "# # Get xtrain and ytrain\n",
        "# xtrain, ytrain = train[:, :6], train[:, 4]\n",
        "# # Get xtest and ytest\n",
        "# xtest, ytest = test[:, :6], test[:, 4]\n",
        "# # Get xval and yval\n",
        "# xval, yval = val[:, :6], val[:, 4]"
      ],
      "metadata": {
        "id": "IxyaiDzbJRRU"
      },
      "execution_count": 19,
      "outputs": []
    },
    {
      "cell_type": "code",
      "source": [
        "print(xtrain.shape)\n",
        "print(ytrain.shape)\n",
        "print(xtest.shape)\n",
        "print(ytest.shape)\n",
        "print(xval.shape)\n",
        "print(yval.shape)"
      ],
      "metadata": {
        "colab": {
          "base_uri": "https://localhost:8080/"
        },
        "id": "V-7g88J5N_M-",
        "outputId": "bb957a5a-b592-49ab-f8a8-58113583be6a"
      },
      "execution_count": 20,
      "outputs": [
        {
          "output_type": "stream",
          "name": "stdout",
          "text": [
            "(127, 2)\n",
            "(127,)\n",
            "(46, 2)\n",
            "(46,)\n",
            "(9, 2)\n",
            "(9,)\n"
          ]
        }
      ]
    },
    {
      "cell_type": "code",
      "source": [
        "lookback = 1\n",
        "n_features = 2\n",
        "train_len = len(xtrain) - lookback\n",
        "test_len = len(xtest) - lookback\n",
        "val_len = len(xval) - lookback\n",
        "\n",
        "print(\"Train len:\", train_len)\n",
        "print(\"Test len:\", test_len)\n",
        "\n",
        "x_train = np.zeros((train_len, lookback, n_features))\n",
        "y_train = np.zeros((train_len))\n",
        "for i in range(train_len):\n",
        "    ytemp = i+lookback\n",
        "    x_train[i] = xtrain[i:ytemp]\n",
        "    y_train[i] = ytrain[ytemp]\n",
        "print(\"x_train\", x_train.shape)\n",
        "print(\"y_train\", y_train.shape)\n",
        "\n",
        "x_test = np.zeros((test_len, lookback, n_features))\n",
        "y_test = np.zeros((test_len))\n",
        "for i in range(test_len):\n",
        "    ytemp = i+lookback\n",
        "    x_test[i] = xtest[i:ytemp]\n",
        "    y_test[i] = ytest[ytemp]\n",
        "print(\"x_test\", x_test.shape)\n",
        "print(\"y_test\", y_test.shape)\n",
        "\n",
        "x_val = np.zeros((val_len, lookback, n_features))\n",
        "y_val = np.zeros((val_len))\n",
        "for i in range(val_len):\n",
        "    ytemp = i+lookback\n",
        "    x_val[i] = xval[i:ytemp]\n",
        "    y_val[i] = yval[ytemp]\n",
        "print(\"x_val\", x_val.shape)\n",
        "print(\"y_val\", y_val.shape)\n",
        "\n",
        "model = Sequential()  \n",
        "model.add(LSTM(50,input_shape = (lookback, n_features), return_sequences=True, activation='relu'))\n",
        "model.add(Dropout(0.15))\n",
        "model.add(LSTM(100, activation='relu'))\n",
        "model.add(Dropout(0.2))\n",
        "model.add(Dense(1))\n",
        "print(model.summary())\n",
        "\n",
        "model.compile(loss = 'mse', optimizer = 'adam')\n",
        "earlystop = EarlyStopping(monitor='val_loss', min_delta=0.0001, patience=80,  verbose=1, mode='min')\n",
        "\n",
        "start = time()\n",
        "print(\"start:\",0)\n",
        "history = model.fit(x_train,y_train, epochs = 20, batch_size=2, \n",
        "          validation_data=(x_val,y_val),verbose = 1, \n",
        "          shuffle = False, callbacks=[earlystop])\n",
        "print(\"endtime:\",time()-start)"
      ],
      "metadata": {
        "colab": {
          "base_uri": "https://localhost:8080/"
        },
        "id": "3QRrWdk9OArm",
        "outputId": "6ecd358d-682a-4fa6-a494-91680fcf5fda"
      },
      "execution_count": 25,
      "outputs": [
        {
          "output_type": "stream",
          "name": "stdout",
          "text": [
            "Train len: 126\n",
            "Test len: 45\n",
            "x_train (126, 1, 2)\n",
            "y_train (126,)\n",
            "x_test (45, 1, 2)\n",
            "y_test (45,)\n",
            "x_val (8, 1, 2)\n",
            "y_val (8,)\n",
            "Model: \"sequential_3\"\n",
            "_________________________________________________________________\n",
            " Layer (type)                Output Shape              Param #   \n",
            "=================================================================\n",
            " lstm_6 (LSTM)               (None, 1, 50)             10600     \n",
            "                                                                 \n",
            " dropout_6 (Dropout)         (None, 1, 50)             0         \n",
            "                                                                 \n",
            " lstm_7 (LSTM)               (None, 100)               60400     \n",
            "                                                                 \n",
            " dropout_7 (Dropout)         (None, 100)               0         \n",
            "                                                                 \n",
            " dense_3 (Dense)             (None, 1)                 101       \n",
            "                                                                 \n",
            "=================================================================\n",
            "Total params: 71,101\n",
            "Trainable params: 71,101\n",
            "Non-trainable params: 0\n",
            "_________________________________________________________________\n",
            "None\n",
            "start: 0\n",
            "Epoch 1/20\n",
            "63/63 [==============================] - 3s 9ms/step - loss: 0.0943 - val_loss: 0.0048\n",
            "Epoch 2/20\n",
            "63/63 [==============================] - 0s 4ms/step - loss: 0.0320 - val_loss: 0.0128\n",
            "Epoch 3/20\n",
            "63/63 [==============================] - 0s 8ms/step - loss: 0.0297 - val_loss: 0.0118\n",
            "Epoch 4/20\n",
            "63/63 [==============================] - 1s 10ms/step - loss: 0.0272 - val_loss: 0.0124\n",
            "Epoch 5/20\n",
            "63/63 [==============================] - 0s 4ms/step - loss: 0.0272 - val_loss: 0.0132\n",
            "Epoch 6/20\n",
            "63/63 [==============================] - 0s 4ms/step - loss: 0.0262 - val_loss: 0.0119\n",
            "Epoch 7/20\n",
            "63/63 [==============================] - 0s 3ms/step - loss: 0.0232 - val_loss: 0.0108\n",
            "Epoch 8/20\n",
            "63/63 [==============================] - 0s 4ms/step - loss: 0.0210 - val_loss: 0.0096\n",
            "Epoch 9/20\n",
            "63/63 [==============================] - 0s 4ms/step - loss: 0.0209 - val_loss: 0.0095\n",
            "Epoch 10/20\n",
            "63/63 [==============================] - 0s 3ms/step - loss: 0.0209 - val_loss: 0.0096\n",
            "Epoch 11/20\n",
            "63/63 [==============================] - 0s 3ms/step - loss: 0.0212 - val_loss: 0.0081\n",
            "Epoch 12/20\n",
            "63/63 [==============================] - 0s 4ms/step - loss: 0.0178 - val_loss: 0.0088\n",
            "Epoch 13/20\n",
            "63/63 [==============================] - 0s 3ms/step - loss: 0.0168 - val_loss: 0.0078\n",
            "Epoch 14/20\n",
            "63/63 [==============================] - 0s 4ms/step - loss: 0.0178 - val_loss: 0.0070\n",
            "Epoch 15/20\n",
            "63/63 [==============================] - 0s 3ms/step - loss: 0.0170 - val_loss: 0.0081\n",
            "Epoch 16/20\n",
            "63/63 [==============================] - 0s 4ms/step - loss: 0.0148 - val_loss: 0.0089\n",
            "Epoch 17/20\n",
            "63/63 [==============================] - 0s 4ms/step - loss: 0.0149 - val_loss: 0.0081\n",
            "Epoch 18/20\n",
            "63/63 [==============================] - 0s 3ms/step - loss: 0.0170 - val_loss: 0.0069\n",
            "Epoch 19/20\n",
            "63/63 [==============================] - 0s 3ms/step - loss: 0.0152 - val_loss: 0.0090\n",
            "Epoch 20/20\n",
            "63/63 [==============================] - 0s 3ms/step - loss: 0.0145 - val_loss: 0.0080\n",
            "endtime: 8.22083067893982\n"
          ]
        }
      ]
    },
    {
      "cell_type": "code",
      "source": [
        "# Plotting data \n",
        "\n",
        "loss = history.history['loss']\n",
        "val_loss = history.history['val_loss']\n",
        "epochs = range(len(loss))\n",
        "plt.figure(figsize=(10, 8))\n",
        "plt.plot(epochs, loss, 'b', label='Training loss')\n",
        "plt.plot(epochs, val_loss, 'orange', label='Validation loss')\n",
        "plt.title(\"Training and Validation loss\")\n",
        "plt.legend()\n",
        "plt.show()\n",
        "\n",
        "# Predict the model\n",
        "y_pred = model.predict(x_test)\n",
        "print(\"r2_score:\", r2_score(y_pred, y_test))\n",
        "\n",
        "plt.figure(figsize=(18,8))\n",
        "plt.plot(y_test, '.-', color='red', label='Real market values', alpha=0.5)\n",
        "plt.plot(y_pred, '.-', color='blue', label='Predicted values', alpha=1)\n",
        "plt.title(\"Bitcoin Price Prediction using RNN-LSTM\")\n",
        "plt.xlabel(\"Time\")\n",
        "plt.ylabel(\"Price\")\n",
        "plt.legend()\n",
        "plt.show()"
      ],
      "metadata": {
        "id": "tr0ci0PUQ9r8",
        "colab": {
          "base_uri": "https://localhost:8080/",
          "height": 1000
        },
        "outputId": "b33f57d0-1a97-48db-edf8-2f3cdca793c2"
      },
      "execution_count": 26,
      "outputs": [
        {
          "output_type": "display_data",
          "data": {
            "text/plain": [
              "<Figure size 720x576 with 1 Axes>"
            ],
            "image/png": "[encoded data removed]"
          },
          "metadata": {
            "needs_background": "light"
          }
        },
        {
          "output_type": "stream",
          "name": "stdout",
          "text": [
            "r2_score: -0.5515443517346088\n"
          ]
        },
        {
          "output_type": "display_data",
          "data": {
            "text/plain": [
              "<Figure size 1296x576 with 1 Axes>"
            ],
            "image/png": "[encoded data removed]"
          },
          "metadata": {
            "needs_background": "light"
          }
        }
      ]
    },
    {
      "cell_type": "code",
      "source": [
        ""
      ],
      "metadata": {
        "id": "9bAaguJte4Pa"
      },
      "execution_count": null,
      "outputs": []
    }
  ]
}