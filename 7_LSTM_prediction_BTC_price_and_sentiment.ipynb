{
  "nbformat": 4,
  "nbformat_minor": 0,
  "metadata": {
    "colab": {
      "name": "7_LSTM-prediction_BTC_price-and-sentiment.ipynb",
      "provenance": [],
      "collapsed_sections": [],
      "mount_file_id": "17vTajrER-fGwgb7OLdFGu2b8tSQtbIvz",
      "authorship_tag": "ABX9TyPWoJomjwsBvkYanfLNBQst",
      "include_colab_link": true
    },
    "kernelspec": {
      "name": "python3",
      "display_name": "Python 3"
    },
    "language_info": {
      "name": "python"
    },
    "widgets": {
      "application/vnd.jupyter.widget-state+json": {
        "47843c7940be40f3af32fdca40683121": {
          "model_module": "@jupyter-widgets/controls",
          "model_name": "VBoxModel",
          "model_module_version": "1.5.0",
          "state": {
            "_dom_classes": [],
            "_model_module": "@jupyter-widgets/controls",
            "_model_module_version": "1.5.0",
            "_model_name": "VBoxModel",
            "_view_count": null,
            "_view_module": "@jupyter-widgets/controls",
            "_view_module_version": "1.5.0",
            "_view_name": "VBoxView",
            "box_style": "",
            "children": [
              "IPY_MODEL_3d48d7be46194f36964008d24a4ecfae",
              "IPY_MODEL_0339079b222847c1bd5ec19065bb6a9b"
            ],
            "layout": "IPY_MODEL_1b938089471e432b8af514de660c3ada"
          }
        },
        "3d48d7be46194f36964008d24a4ecfae": {
          "model_module": "@jupyter-widgets/controls",
          "model_name": "LabelModel",
          "model_module_version": "1.5.0",
          "state": {
            "_dom_classes": [],
            "_model_module": "@jupyter-widgets/controls",
            "_model_module_version": "1.5.0",
            "_model_name": "LabelModel",
            "_view_count": null,
            "_view_module": "@jupyter-widgets/controls",
            "_view_module_version": "1.5.0",
            "_view_name": "LabelView",
            "description": "",
            "description_tooltip": null,
            "layout": "IPY_MODEL_962df6d112a841b998d18390497310c1",
            "placeholder": "​",
            "style": "IPY_MODEL_af694374152c4a638b0941c5325f1800",
            "value": "0.011 MB of 0.011 MB uploaded (0.000 MB deduped)\r"
          }
        },
        "0339079b222847c1bd5ec19065bb6a9b": {
          "model_module": "@jupyter-widgets/controls",
          "model_name": "FloatProgressModel",
          "model_module_version": "1.5.0",
          "state": {
            "_dom_classes": [],
            "_model_module": "@jupyter-widgets/controls",
            "_model_module_version": "1.5.0",
            "_model_name": "FloatProgressModel",
            "_view_count": null,
            "_view_module": "@jupyter-widgets/controls",
            "_view_module_version": "1.5.0",
            "_view_name": "ProgressView",
            "bar_style": "",
            "description": "",
            "description_tooltip": null,
            "layout": "IPY_MODEL_78e7ebb47f124f34aaf7815e575271fe",
            "max": 1,
            "min": 0,
            "orientation": "horizontal",
            "style": "IPY_MODEL_309705a4454f46f699abe9b97044fe85",
            "value": 1
          }
        },
        "1b938089471e432b8af514de660c3ada": {
          "model_module": "@jupyter-widgets/base",
          "model_name": "LayoutModel",
          "model_module_version": "1.2.0",
          "state": {
            "_model_module": "@jupyter-widgets/base",
            "_model_module_version": "1.2.0",
            "_model_name": "LayoutModel",
            "_view_count": null,
            "_view_module": "@jupyter-widgets/base",
            "_view_module_version": "1.2.0",
            "_view_name": "LayoutView",
            "align_content": null,
            "align_items": null,
            "align_self": null,
            "border": null,
            "bottom": null,
            "display": null,
            "flex": null,
            "flex_flow": null,
            "grid_area": null,
            "grid_auto_columns": null,
            "grid_auto_flow": null,
            "grid_auto_rows": null,
            "grid_column": null,
            "grid_gap": null,
            "grid_row": null,
            "grid_template_areas": null,
            "grid_template_columns": null,
            "grid_template_rows": null,
            "height": null,
            "justify_content": null,
            "justify_items": null,
            "left": null,
            "margin": null,
            "max_height": null,
            "max_width": null,
            "min_height": null,
            "min_width": null,
            "object_fit": null,
            "object_position": null,
            "order": null,
            "overflow": null,
            "overflow_x": null,
            "overflow_y": null,
            "padding": null,
            "right": null,
            "top": null,
            "visibility": null,
            "width": null
          }
        },
        "962df6d112a841b998d18390497310c1": {
          "model_module": "@jupyter-widgets/base",
          "model_name": "LayoutModel",
          "model_module_version": "1.2.0",
          "state": {
            "_model_module": "@jupyter-widgets/base",
            "_model_module_version": "1.2.0",
            "_model_name": "LayoutModel",
            "_view_count": null,
            "_view_module": "@jupyter-widgets/base",
            "_view_module_version": "1.2.0",
            "_view_name": "LayoutView",
            "align_content": null,
            "align_items": null,
            "align_self": null,
            "border": null,
            "bottom": null,
            "display": null,
            "flex": null,
            "flex_flow": null,
            "grid_area": null,
            "grid_auto_columns": null,
            "grid_auto_flow": null,
            "grid_auto_rows": null,
            "grid_column": null,
            "grid_gap": null,
            "grid_row": null,
            "grid_template_areas": null,
            "grid_template_columns": null,
            "grid_template_rows": null,
            "height": null,
            "justify_content": null,
            "justify_items": null,
            "left": null,
            "margin": null,
            "max_height": null,
            "max_width": null,
            "min_height": null,
            "min_width": null,
            "object_fit": null,
            "object_position": null,
            "order": null,
            "overflow": null,
            "overflow_x": null,
            "overflow_y": null,
            "padding": null,
            "right": null,
            "top": null,
            "visibility": null,
            "width": null
          }
        },
        "af694374152c4a638b0941c5325f1800": {
          "model_module": "@jupyter-widgets/controls",
          "model_name": "DescriptionStyleModel",
          "model_module_version": "1.5.0",
          "state": {
            "_model_module": "@jupyter-widgets/controls",
            "_model_module_version": "1.5.0",
            "_model_name": "DescriptionStyleModel",
            "_view_count": null,
            "_view_module": "@jupyter-widgets/base",
            "_view_module_version": "1.2.0",
            "_view_name": "StyleView",
            "description_width": ""
          }
        },
        "78e7ebb47f124f34aaf7815e575271fe": {
          "model_module": "@jupyter-widgets/base",
          "model_name": "LayoutModel",
          "model_module_version": "1.2.0",
          "state": {
            "_model_module": "@jupyter-widgets/base",
            "_model_module_version": "1.2.0",
            "_model_name": "LayoutModel",
            "_view_count": null,
            "_view_module": "@jupyter-widgets/base",
            "_view_module_version": "1.2.0",
            "_view_name": "LayoutView",
            "align_content": null,
            "align_items": null,
            "align_self": null,
            "border": null,
            "bottom": null,
            "display": null,
            "flex": null,
            "flex_flow": null,
            "grid_area": null,
            "grid_auto_columns": null,
            "grid_auto_flow": null,
            "grid_auto_rows": null,
            "grid_column": null,
            "grid_gap": null,
            "grid_row": null,
            "grid_template_areas": null,
            "grid_template_columns": null,
            "grid_template_rows": null,
            "height": null,
            "justify_content": null,
            "justify_items": null,
            "left": null,
            "margin": null,
            "max_height": null,
            "max_width": null,
            "min_height": null,
            "min_width": null,
            "object_fit": null,
            "object_position": null,
            "order": null,
            "overflow": null,
            "overflow_x": null,
            "overflow_y": null,
            "padding": null,
            "right": null,
            "top": null,
            "visibility": null,
            "width": null
          }
        },
        "309705a4454f46f699abe9b97044fe85": {
          "model_module": "@jupyter-widgets/controls",
          "model_name": "ProgressStyleModel",
          "model_module_version": "1.5.0",
          "state": {
            "_model_module": "@jupyter-widgets/controls",
            "_model_module_version": "1.5.0",
            "_model_name": "ProgressStyleModel",
            "_view_count": null,
            "_view_module": "@jupyter-widgets/base",
            "_view_module_version": "1.2.0",
            "_view_name": "StyleView",
            "bar_color": null,
            "description_width": ""
          }
        }
      }
    }
  },
  "cells": [
    {
      "cell_type": "markdown",
      "metadata": {
        "id": "view-in-github",
        "colab_type": "text"
      },
      "source": [
        "<a href=\"https://colab.research.google.com/github/paulcodrea/dissertation/blob/main/7_LSTM_prediction_BTC_price_and_sentiment.ipynb\" target=\"_parent\"><img src=\"https://colab.research.google.com/assets/colab-badge.svg\" alt=\"Open In Colab\"/></a>"
      ]
    },
    {
      "cell_type": "code",
      "source": [
        "!pip install wandb"
      ],
      "metadata": {
        "colab": {
          "base_uri": "https://localhost:8080/"
        },
        "id": "x4mCQvIev9T9",
        "outputId": "28d2b1ac-3ac6-4ea5-8da5-d0aa3322b2d1"
      },
      "execution_count": 14,
      "outputs": [
        {
          "output_type": "stream",
          "name": "stdout",
          "text": [
            "Requirement already satisfied: wandb in /usr/local/lib/python3.7/dist-packages (0.12.11)\n",
            "Requirement already satisfied: six>=1.13.0 in /usr/local/lib/python3.7/dist-packages (from wandb) (1.15.0)\n",
            "Requirement already satisfied: setproctitle in /usr/local/lib/python3.7/dist-packages (from wandb) (1.2.2)\n",
            "Requirement already satisfied: python-dateutil>=2.6.1 in /usr/local/lib/python3.7/dist-packages (from wandb) (2.8.2)\n",
            "Requirement already satisfied: Click!=8.0.0,>=7.0 in /usr/local/lib/python3.7/dist-packages (from wandb) (7.1.2)\n",
            "Requirement already satisfied: shortuuid>=0.5.0 in /usr/local/lib/python3.7/dist-packages (from wandb) (1.0.8)\n",
            "Requirement already satisfied: requests<3,>=2.0.0 in /usr/local/lib/python3.7/dist-packages (from wandb) (2.23.0)\n",
            "Requirement already satisfied: GitPython>=1.0.0 in /usr/local/lib/python3.7/dist-packages (from wandb) (3.1.27)\n",
            "Requirement already satisfied: yaspin>=1.0.0 in /usr/local/lib/python3.7/dist-packages (from wandb) (2.1.0)\n",
            "Requirement already satisfied: docker-pycreds>=0.4.0 in /usr/local/lib/python3.7/dist-packages (from wandb) (0.4.0)\n",
            "Requirement already satisfied: PyYAML in /usr/local/lib/python3.7/dist-packages (from wandb) (3.13)\n",
            "Requirement already satisfied: protobuf>=3.12.0 in /usr/local/lib/python3.7/dist-packages (from wandb) (3.17.3)\n",
            "Requirement already satisfied: sentry-sdk>=1.0.0 in /usr/local/lib/python3.7/dist-packages (from wandb) (1.5.8)\n",
            "Requirement already satisfied: psutil>=5.0.0 in /usr/local/lib/python3.7/dist-packages (from wandb) (5.4.8)\n",
            "Requirement already satisfied: promise<3,>=2.0 in /usr/local/lib/python3.7/dist-packages (from wandb) (2.3)\n",
            "Requirement already satisfied: pathtools in /usr/local/lib/python3.7/dist-packages (from wandb) (0.1.2)\n",
            "Requirement already satisfied: gitdb<5,>=4.0.1 in /usr/local/lib/python3.7/dist-packages (from GitPython>=1.0.0->wandb) (4.0.9)\n",
            "Requirement already satisfied: typing-extensions>=3.7.4.3 in /usr/local/lib/python3.7/dist-packages (from GitPython>=1.0.0->wandb) (3.10.0.2)\n",
            "Requirement already satisfied: smmap<6,>=3.0.1 in /usr/local/lib/python3.7/dist-packages (from gitdb<5,>=4.0.1->GitPython>=1.0.0->wandb) (5.0.0)\n",
            "Requirement already satisfied: chardet<4,>=3.0.2 in /usr/local/lib/python3.7/dist-packages (from requests<3,>=2.0.0->wandb) (3.0.4)\n",
            "Requirement already satisfied: certifi>=2017.4.17 in /usr/local/lib/python3.7/dist-packages (from requests<3,>=2.0.0->wandb) (2021.10.8)\n",
            "Requirement already satisfied: urllib3!=1.25.0,!=1.25.1,<1.26,>=1.21.1 in /usr/local/lib/python3.7/dist-packages (from requests<3,>=2.0.0->wandb) (1.24.3)\n",
            "Requirement already satisfied: idna<3,>=2.5 in /usr/local/lib/python3.7/dist-packages (from requests<3,>=2.0.0->wandb) (2.10)\n",
            "Requirement already satisfied: termcolor<2.0.0,>=1.1.0 in /usr/local/lib/python3.7/dist-packages (from yaspin>=1.0.0->wandb) (1.1.0)\n"
          ]
        }
      ]
    },
    {
      "cell_type": "code",
      "source": [
        "!wandb login\n",
        "# cb34a0b023a44c8d62a2d3cefe662c5437f3e003"
      ],
      "metadata": {
        "colab": {
          "base_uri": "https://localhost:8080/"
        },
        "id": "ndQZJsg6v-u0",
        "outputId": "ee408222-5460-43b7-e9fd-858aa0674dd0"
      },
      "execution_count": 15,
      "outputs": [
        {
          "output_type": "stream",
          "name": "stdout",
          "text": [
            "\u001b[34m\u001b[1mwandb\u001b[0m: Currently logged in as: \u001b[33mpaulcodrea\u001b[0m (use `wandb login --relogin` to force relogin)\n"
          ]
        }
      ]
    },
    {
      "cell_type": "code",
      "execution_count": 16,
      "metadata": {
        "id": "2V9Z9wsTF-3L"
      },
      "outputs": [],
      "source": [
        "import pandas as pd\n",
        "import numpy as np\n",
        "import matplotlib\n",
        "# matplotlib.use(\"TkAgg\")\n",
        "import matplotlib.pyplot as plt\n",
        "import tensorflow as tf\n",
        "import wandb\n",
        "from wandb.keras import WandbCallback\n",
        "from time import time\n",
        "from keras.models import Sequential, load_model\n",
        "from keras.layers.core import Dense, Activation, Dropout, Flatten\n",
        "from keras.layers import LSTM\n",
        "# from keras.optimizers import Adam\n",
        "from time import time\n",
        "from keras.callbacks import EarlyStopping\n",
        "from sklearn.metrics import r2_score\n",
        "from sklearn.preprocessing import MinMaxScaler\n",
        "sc = MinMaxScaler()"
      ]
    },
    {
      "cell_type": "code",
      "source": [
        "wandb.init(project=\"7_LSTM-precition_BTC_price-and-sentiment\", entity=\"paulcodrea\")"
      ],
      "metadata": {
        "colab": {
          "base_uri": "https://localhost:8080/",
          "height": 215,
          "referenced_widgets": [
            "47843c7940be40f3af32fdca40683121",
            "3d48d7be46194f36964008d24a4ecfae",
            "0339079b222847c1bd5ec19065bb6a9b",
            "1b938089471e432b8af514de660c3ada",
            "962df6d112a841b998d18390497310c1",
            "af694374152c4a638b0941c5325f1800",
            "78e7ebb47f124f34aaf7815e575271fe",
            "309705a4454f46f699abe9b97044fe85"
          ]
        },
        "id": "KEC03ClHwLFe",
        "outputId": "e69db892-443b-4a84-91c3-736c277d7fe1"
      },
      "execution_count": 17,
      "outputs": [
        {
          "output_type": "display_data",
          "data": {
            "text/plain": [
              "<IPython.core.display.HTML object>"
            ],
            "text/html": [
              "Finishing last run (ID:th9dohpa) before initializing another..."
            ]
          },
          "metadata": {}
        },
        {
          "output_type": "stream",
          "name": "stdout",
          "text": [
            "\n"
          ]
        },
        {
          "output_type": "display_data",
          "data": {
            "text/plain": [
              "<IPython.core.display.HTML object>"
            ],
            "text/html": [
              "Waiting for W&B process to finish... <strong style=\"color:green\">(success).</strong>"
            ]
          },
          "metadata": {}
        },
        {
          "output_type": "display_data",
          "data": {
            "text/plain": [
              "VBox(children=(Label(value='0.001 MB of 0.001 MB uploaded (0.000 MB deduped)\\r'), FloatProgress(value=1.0, max…"
            ],
            "application/vnd.jupyter.widget-view+json": {
              "version_major": 2,
              "version_minor": 0,
              "model_id": "47843c7940be40f3af32fdca40683121"
            }
          },
          "metadata": {}
        },
        {
          "output_type": "display_data",
          "data": {
            "text/plain": [
              "<IPython.core.display.HTML object>"
            ],
            "text/html": [
              "Synced <strong style=\"color:#cdcd00\">dulcet-gorge-1</strong>: <a href=\"https://wandb.ai/paulcodrea/7_LSTM-precition_BTC_price-and-sentiment/runs/th9dohpa\" target=\"_blank\">https://wandb.ai/paulcodrea/7_LSTM-precition_BTC_price-and-sentiment/runs/th9dohpa</a><br/>Synced 5 W&B file(s), 0 media file(s), 0 artifact file(s) and 0 other file(s)"
            ]
          },
          "metadata": {}
        },
        {
          "output_type": "display_data",
          "data": {
            "text/plain": [
              "<IPython.core.display.HTML object>"
            ],
            "text/html": [
              "Find logs at: <code>./wandb/run-20220321_135321-th9dohpa/logs</code>"
            ]
          },
          "metadata": {}
        },
        {
          "output_type": "display_data",
          "data": {
            "text/plain": [
              "<IPython.core.display.HTML object>"
            ],
            "text/html": [
              "Successfully finished last run (ID:th9dohpa). Initializing new run:<br/>"
            ]
          },
          "metadata": {}
        },
        {
          "output_type": "display_data",
          "data": {
            "text/plain": [
              "<IPython.core.display.HTML object>"
            ],
            "text/html": [
              "Tracking run with wandb version 0.12.11"
            ]
          },
          "metadata": {}
        },
        {
          "output_type": "display_data",
          "data": {
            "text/plain": [
              "<IPython.core.display.HTML object>"
            ],
            "text/html": [
              "Run data is saved locally in <code>/content/wandb/run-20220321_135713-fi1e8q1v</code>"
            ]
          },
          "metadata": {}
        },
        {
          "output_type": "display_data",
          "data": {
            "text/plain": [
              "<IPython.core.display.HTML object>"
            ],
            "text/html": [
              "Syncing run <strong><a href=\"https://wandb.ai/paulcodrea/7_LSTM-precition_BTC_price-and-sentiment/runs/fi1e8q1v\" target=\"_blank\">brisk-salad-2</a></strong> to <a href=\"https://wandb.ai/paulcodrea/7_LSTM-precition_BTC_price-and-sentiment\" target=\"_blank\">Weights & Biases</a> (<a href=\"https://wandb.me/run\" target=\"_blank\">docs</a>)<br/>"
            ]
          },
          "metadata": {}
        },
        {
          "output_type": "execute_result",
          "data": {
            "text/html": [
              "<button onClick=\"this.nextSibling.style.display='block';this.style.display='none';\">Display W&B run</button><iframe src=\"https://wandb.ai/paulcodrea/7_LSTM-precition_BTC_price-and-sentiment/runs/fi1e8q1v?jupyter=true\" style=\"border:none;width:100%;height:420px;display:none;\"></iframe>"
            ],
            "text/plain": [
              "<wandb.sdk.wandb_run.Run at 0x7f540e352650>"
            ]
          },
          "metadata": {},
          "execution_count": 17
        }
      ]
    },
    {
      "cell_type": "code",
      "source": [
        "wandb.config = {\n",
        "    \"learning_rate\": 0.001, \n",
        "    \"epochs\": 70, \n",
        "    \"batch_size\": 2,\n",
        "    \"training_index\": 0.55, \n",
        "    \"validation_index\": 0.05, \n",
        "    \"layer_1\": 50, \n",
        "    \"layer_2\": 100,\n",
        "    # \"timesteps\": 2,\n",
        "}"
      ],
      "metadata": {
        "id": "Min6QDbawRuU"
      },
      "execution_count": 18,
      "outputs": []
    },
    {
      "cell_type": "code",
      "source": [
        "# df = pd.read_csv('/content/drive/MyDrive/COMP30030_Dissertation_paul.codrea/Market-prediction/final_price-and-compund.csv', parse_dates=True, index_col=\"date\")\n",
        "\n",
        "df = pd.read_csv('/content/drive/MyDrive/COMP30030_Dissertation_paul.codrea/Market-prediction/final_price-and-score.csv', parse_dates=True, index_col=\"date\")\n",
        "df = df[['score', 'close']]\n",
        "print(df.head())"
      ],
      "metadata": {
        "id": "f-bHnQa4IvU2",
        "colab": {
          "base_uri": "https://localhost:8080/"
        },
        "outputId": "956539e6-0b23-4231-d183-c107ff16738e"
      },
      "execution_count": 19,
      "outputs": [
        {
          "output_type": "stream",
          "name": "stdout",
          "text": [
            "                            score     close\n",
            "date                                       \n",
            "2022-02-27 11:00:00  1.830000e-07  39506.94\n",
            "2022-02-27 12:00:00  3.000000e-06  39772.65\n",
            "2022-02-27 13:00:00  4.040000e-07  39087.32\n",
            "2022-02-27 14:00:00  4.840000e-07  38805.72\n",
            "2022-02-27 15:00:00  1.170000e-06  39375.33\n"
          ]
        }
      ]
    },
    {
      "cell_type": "code",
      "source": [
        "# Data normalization. This is one of the first steps to normalize the values. \n",
        "# The goal is to change the values of numeric columns in the data set to a common scale, wihtout distorting differeces in the randes of values. \n",
        "df_values = df.values\n",
        "sc = MinMaxScaler()\n",
        "data_scaled = sc.fit_transform(df_values)\n",
        "\n",
        "# print(len(data_scaled))\n",
        "# print(data_scaled.size)\n",
        "# print(data_scaled)"
      ],
      "metadata": {
        "id": "MQ3M45WdIz-g"
      },
      "execution_count": 20,
      "outputs": []
    },
    {
      "cell_type": "code",
      "source": [
        "# Splitting data into training and testing data \n",
        "\n",
        "train_index = int(wandb.config['training_index'] * len(data_scaled))\n",
        "val_index = train_index + int(wandb.config['validation_index'] * len(data_scaled))\n",
        "\n",
        "train = data_scaled[:train_index]\n",
        "val = data_scaled[train_index:val_index]\n",
        "test = data_scaled[val_index:]"
      ],
      "metadata": {
        "id": "oZzFVdPwI9MV"
      },
      "execution_count": 21,
      "outputs": []
    },
    {
      "cell_type": "code",
      "source": [
        "print(\"train,test,val\",train.shape, test.shape, val.shape)"
      ],
      "metadata": {
        "colab": {
          "base_uri": "https://localhost:8080/"
        },
        "id": "qdXLzbN-JB1F",
        "outputId": "a16ca66d-b75e-4140-fab5-b71260adaa1d"
      },
      "execution_count": 22,
      "outputs": [
        {
          "output_type": "stream",
          "name": "stdout",
          "text": [
            "train,test,val (100, 2) (73, 2) (9, 2)\n"
          ]
        }
      ]
    },
    {
      "cell_type": "code",
      "source": [
        "xtrain, ytrain = train[:,:2], train[:,1]\n",
        "xtest, ytest = test[:,:2], test[:,1]\n",
        "xval, yval = val[:,:2], val[:,1]\n",
        "\n",
        "\n",
        "# # Get xtrain and ytrain\n",
        "# xtrain, ytrain = train[:, :6], train[:, 4]\n",
        "# # Get xtest and ytest\n",
        "# xtest, ytest = test[:, :6], test[:, 4]\n",
        "# # Get xval and yval\n",
        "# xval, yval = val[:, :6], val[:, 4]"
      ],
      "metadata": {
        "id": "IxyaiDzbJRRU"
      },
      "execution_count": 23,
      "outputs": []
    },
    {
      "cell_type": "code",
      "source": [
        "lookback = 2 # xtrain.shape[1]\n",
        "n_features = 2\n",
        "train_len = len(xtrain) - lookback\n",
        "test_len = len(xtest) - lookback\n",
        "val_len = len(xval) - lookback\n",
        "\n",
        "print(\"Train len:\", train_len)\n",
        "print(\"Test len:\", test_len)\n",
        "\n",
        "x_train = np.zeros((train_len, lookback, n_features))\n",
        "y_train = np.zeros((train_len))\n",
        "for i in range(train_len):\n",
        "    ytemp = i+lookback\n",
        "    x_train[i] = xtrain[i:ytemp]\n",
        "    y_train[i] = ytrain[ytemp]\n",
        "print(\"x_train\", x_train.shape)\n",
        "print(\"y_train\", y_train.shape)\n",
        "\n",
        "x_test = np.zeros((test_len, lookback, n_features))\n",
        "y_test = np.zeros((test_len))\n",
        "for i in range(test_len):\n",
        "    ytemp = i+lookback\n",
        "    x_test[i] = xtest[i:ytemp]\n",
        "    y_test[i] = ytest[ytemp]\n",
        "print(\"x_test\", x_test.shape)\n",
        "print(\"y_test\", y_test.shape)\n",
        "\n",
        "x_val = np.zeros((val_len, lookback, n_features))\n",
        "y_val = np.zeros((val_len))\n",
        "for i in range(val_len):\n",
        "    ytemp = i+lookback\n",
        "    x_val[i] = xval[i:ytemp]\n",
        "    y_val[i] = yval[ytemp]\n",
        "print(\"x_val\", x_val.shape)\n",
        "print(\"y_val\", y_val.shape)\n",
        "\n",
        "model = Sequential()  \n",
        "model.add(LSTM(wandb.config['layer_1'],input_shape = (lookback, n_features), return_sequences=True, activation='tanh'))\n",
        "model.add(Dropout(0.15))\n",
        "model.add(LSTM(wandb.config['layer_2'], activation='tanh'))\n",
        "model.add(Dropout(0.2))\n",
        "model.add(Dense(1))\n",
        "print(model.summary())\n",
        "\n",
        "model.compile(loss = 'mse', optimizer = 'adam')\n",
        "earlystop = EarlyStopping(monitor='val_loss', min_delta=0.0001, patience=80,  verbose=1, mode='min')\n",
        "\n",
        "start = time()\n",
        "print(\"start:\",0)\n",
        "history = model.fit(x_train,y_train, epochs = wandb.config['epochs'], batch_size=wandb.config['batch_size'], \n",
        "          validation_data=(x_val,y_val),verbose = 1, \n",
        "          shuffle = False, callbacks=[WandbCallback(), earlystop])\n",
        "\n",
        "# Print the time it took to run the code\n",
        "print(\"Time: %.4f\" % (time() - start))"
      ],
      "metadata": {
        "colab": {
          "base_uri": "https://localhost:8080/"
        },
        "id": "3QRrWdk9OArm",
        "outputId": "0de1f3ef-bb85-4473-ad07-1f0a5735aeb4"
      },
      "execution_count": 24,
      "outputs": [
        {
          "output_type": "stream",
          "name": "stdout",
          "text": [
            "Train len: 98\n",
            "Test len: 71\n",
            "x_train (98, 2, 2)\n",
            "y_train (98,)\n",
            "x_test (71, 2, 2)\n",
            "y_test (71,)\n",
            "x_val (7, 2, 2)\n",
            "y_val (7,)\n",
            "Model: \"sequential\"\n",
            "_________________________________________________________________\n",
            " Layer (type)                Output Shape              Param #   \n",
            "=================================================================\n",
            " lstm (LSTM)                 (None, 2, 50)             10600     \n",
            "                                                                 \n",
            " dropout (Dropout)           (None, 2, 50)             0         \n",
            "                                                                 \n",
            " lstm_1 (LSTM)               (None, 100)               60400     \n",
            "                                                                 \n",
            " dropout_1 (Dropout)         (None, 100)               0         \n",
            "                                                                 \n",
            " dense (Dense)               (None, 1)                 101       \n",
            "                                                                 \n",
            "=================================================================\n",
            "Total params: 71,101\n",
            "Trainable params: 71,101\n",
            "Non-trainable params: 0\n",
            "_________________________________________________________________\n",
            "None\n",
            "start: 0\n",
            "Epoch 1/70\n",
            "49/49 [==============================] - 10s 54ms/step - loss: 0.1065 - val_loss: 0.0025 - _timestamp: 1647871056.0000 - _runtime: 19.0000\n",
            "Epoch 2/70\n",
            "49/49 [==============================] - 0s 9ms/step - loss: 0.0558 - val_loss: 0.0049 - _timestamp: 1647871057.0000 - _runtime: 20.0000\n",
            "Epoch 3/70\n",
            "49/49 [==============================] - 0s 9ms/step - loss: 0.0359 - val_loss: 0.0104 - _timestamp: 1647871057.0000 - _runtime: 20.0000\n",
            "Epoch 4/70\n",
            "49/49 [==============================] - 0s 9ms/step - loss: 0.0260 - val_loss: 0.0127 - _timestamp: 1647871058.0000 - _runtime: 21.0000\n",
            "Epoch 5/70\n",
            "49/49 [==============================] - 1s 12ms/step - loss: 0.0217 - val_loss: 0.0087 - _timestamp: 1647871058.0000 - _runtime: 21.0000\n",
            "Epoch 6/70\n",
            "49/49 [==============================] - 1s 10ms/step - loss: 0.0207 - val_loss: 0.0138 - _timestamp: 1647871059.0000 - _runtime: 22.0000\n",
            "Epoch 7/70\n",
            "49/49 [==============================] - 0s 8ms/step - loss: 0.0175 - val_loss: 0.0079 - _timestamp: 1647871059.0000 - _runtime: 22.0000\n",
            "Epoch 8/70\n",
            "49/49 [==============================] - 0s 8ms/step - loss: 0.0202 - val_loss: 0.0160 - _timestamp: 1647871060.0000 - _runtime: 23.0000\n",
            "Epoch 9/70\n",
            "49/49 [==============================] - 0s 9ms/step - loss: 0.0211 - val_loss: 0.0164 - _timestamp: 1647871060.0000 - _runtime: 23.0000\n",
            "Epoch 10/70\n",
            "49/49 [==============================] - 1s 10ms/step - loss: 0.0190 - val_loss: 0.0109 - _timestamp: 1647871061.0000 - _runtime: 24.0000\n",
            "Epoch 11/70\n",
            "49/49 [==============================] - 0s 10ms/step - loss: 0.0174 - val_loss: 0.0194 - _timestamp: 1647871061.0000 - _runtime: 24.0000\n",
            "Epoch 12/70\n",
            "49/49 [==============================] - 0s 10ms/step - loss: 0.0164 - val_loss: 0.0214 - _timestamp: 1647871062.0000 - _runtime: 25.0000\n",
            "Epoch 13/70\n",
            "49/49 [==============================] - 0s 9ms/step - loss: 0.0143 - val_loss: 0.0121 - _timestamp: 1647871062.0000 - _runtime: 25.0000\n",
            "Epoch 14/70\n",
            "49/49 [==============================] - 1s 11ms/step - loss: 0.0122 - val_loss: 0.0171 - _timestamp: 1647871063.0000 - _runtime: 26.0000\n",
            "Epoch 15/70\n",
            "49/49 [==============================] - 0s 9ms/step - loss: 0.0129 - val_loss: 0.0176 - _timestamp: 1647871063.0000 - _runtime: 26.0000\n",
            "Epoch 16/70\n",
            "49/49 [==============================] - 1s 10ms/step - loss: 0.0111 - val_loss: 0.0145 - _timestamp: 1647871064.0000 - _runtime: 27.0000\n",
            "Epoch 17/70\n",
            "49/49 [==============================] - 0s 10ms/step - loss: 0.0091 - val_loss: 0.0209 - _timestamp: 1647871064.0000 - _runtime: 27.0000\n",
            "Epoch 18/70\n",
            "49/49 [==============================] - 0s 9ms/step - loss: 0.0111 - val_loss: 0.0105 - _timestamp: 1647871065.0000 - _runtime: 28.0000\n",
            "Epoch 19/70\n",
            "49/49 [==============================] - 0s 8ms/step - loss: 0.0104 - val_loss: 0.0082 - _timestamp: 1647871065.0000 - _runtime: 28.0000\n",
            "Epoch 20/70\n",
            "49/49 [==============================] - 0s 5ms/step - loss: 0.0112 - val_loss: 0.0068 - _timestamp: 1647871065.0000 - _runtime: 28.0000\n",
            "Epoch 21/70\n",
            "49/49 [==============================] - 0s 5ms/step - loss: 0.0118 - val_loss: 0.0114 - _timestamp: 1647871066.0000 - _runtime: 29.0000\n",
            "Epoch 22/70\n",
            "49/49 [==============================] - 0s 5ms/step - loss: 0.0122 - val_loss: 0.0182 - _timestamp: 1647871066.0000 - _runtime: 29.0000\n",
            "Epoch 23/70\n",
            "49/49 [==============================] - 0s 5ms/step - loss: 0.0100 - val_loss: 0.0148 - _timestamp: 1647871066.0000 - _runtime: 29.0000\n",
            "Epoch 24/70\n",
            "49/49 [==============================] - 0s 5ms/step - loss: 0.0105 - val_loss: 0.0196 - _timestamp: 1647871066.0000 - _runtime: 29.0000\n",
            "Epoch 25/70\n",
            "49/49 [==============================] - 0s 5ms/step - loss: 0.0103 - val_loss: 0.0173 - _timestamp: 1647871067.0000 - _runtime: 30.0000\n",
            "Epoch 26/70\n",
            "49/49 [==============================] - 0s 5ms/step - loss: 0.0122 - val_loss: 0.0124 - _timestamp: 1647871067.0000 - _runtime: 30.0000\n",
            "Epoch 27/70\n",
            "49/49 [==============================] - 0s 5ms/step - loss: 0.0123 - val_loss: 0.0094 - _timestamp: 1647871067.0000 - _runtime: 30.0000\n",
            "Epoch 28/70\n",
            "49/49 [==============================] - 0s 5ms/step - loss: 0.0124 - val_loss: 0.0183 - _timestamp: 1647871067.0000 - _runtime: 30.0000\n",
            "Epoch 29/70\n",
            "49/49 [==============================] - 0s 5ms/step - loss: 0.0108 - val_loss: 0.0166 - _timestamp: 1647871068.0000 - _runtime: 31.0000\n",
            "Epoch 30/70\n",
            "49/49 [==============================] - 0s 5ms/step - loss: 0.0091 - val_loss: 0.0184 - _timestamp: 1647871068.0000 - _runtime: 31.0000\n",
            "Epoch 31/70\n",
            "49/49 [==============================] - 0s 4ms/step - loss: 0.0093 - val_loss: 0.0118 - _timestamp: 1647871068.0000 - _runtime: 31.0000\n",
            "Epoch 32/70\n",
            "49/49 [==============================] - 0s 5ms/step - loss: 0.0114 - val_loss: 0.0190 - _timestamp: 1647871068.0000 - _runtime: 31.0000\n",
            "Epoch 33/70\n",
            "49/49 [==============================] - 0s 5ms/step - loss: 0.0108 - val_loss: 0.0247 - _timestamp: 1647871069.0000 - _runtime: 32.0000\n",
            "Epoch 34/70\n",
            "49/49 [==============================] - 0s 5ms/step - loss: 0.0110 - val_loss: 0.0104 - _timestamp: 1647871069.0000 - _runtime: 32.0000\n",
            "Epoch 35/70\n",
            "49/49 [==============================] - 0s 5ms/step - loss: 0.0117 - val_loss: 0.0154 - _timestamp: 1647871069.0000 - _runtime: 32.0000\n",
            "Epoch 36/70\n",
            "49/49 [==============================] - 0s 5ms/step - loss: 0.0138 - val_loss: 0.0257 - _timestamp: 1647871069.0000 - _runtime: 32.0000\n",
            "Epoch 37/70\n",
            "49/49 [==============================] - 0s 5ms/step - loss: 0.0139 - val_loss: 0.0225 - _timestamp: 1647871070.0000 - _runtime: 33.0000\n",
            "Epoch 38/70\n",
            "49/49 [==============================] - 0s 5ms/step - loss: 0.0130 - val_loss: 0.0187 - _timestamp: 1647871070.0000 - _runtime: 33.0000\n",
            "Epoch 39/70\n",
            "49/49 [==============================] - 0s 5ms/step - loss: 0.0119 - val_loss: 0.0235 - _timestamp: 1647871070.0000 - _runtime: 33.0000\n",
            "Epoch 40/70\n",
            "49/49 [==============================] - 0s 5ms/step - loss: 0.0122 - val_loss: 0.0228 - _timestamp: 1647871070.0000 - _runtime: 33.0000\n",
            "Epoch 41/70\n",
            "49/49 [==============================] - 0s 5ms/step - loss: 0.0104 - val_loss: 0.0233 - _timestamp: 1647871071.0000 - _runtime: 34.0000\n",
            "Epoch 42/70\n",
            "49/49 [==============================] - 0s 5ms/step - loss: 0.0090 - val_loss: 0.0186 - _timestamp: 1647871071.0000 - _runtime: 34.0000\n",
            "Epoch 43/70\n",
            "49/49 [==============================] - 0s 5ms/step - loss: 0.0096 - val_loss: 0.0198 - _timestamp: 1647871071.0000 - _runtime: 34.0000\n",
            "Epoch 44/70\n",
            "49/49 [==============================] - 0s 5ms/step - loss: 0.0114 - val_loss: 0.0220 - _timestamp: 1647871071.0000 - _runtime: 34.0000\n",
            "Epoch 45/70\n",
            "49/49 [==============================] - 0s 5ms/step - loss: 0.0121 - val_loss: 0.0195 - _timestamp: 1647871072.0000 - _runtime: 35.0000\n",
            "Epoch 46/70\n",
            "49/49 [==============================] - 0s 5ms/step - loss: 0.0109 - val_loss: 0.0308 - _timestamp: 1647871072.0000 - _runtime: 35.0000\n",
            "Epoch 47/70\n",
            "49/49 [==============================] - 0s 5ms/step - loss: 0.0099 - val_loss: 0.0239 - _timestamp: 1647871072.0000 - _runtime: 35.0000\n",
            "Epoch 48/70\n",
            "49/49 [==============================] - 0s 6ms/step - loss: 0.0088 - val_loss: 0.0223 - _timestamp: 1647871072.0000 - _runtime: 35.0000\n",
            "Epoch 49/70\n",
            "49/49 [==============================] - 0s 5ms/step - loss: 0.0092 - val_loss: 0.0190 - _timestamp: 1647871073.0000 - _runtime: 36.0000\n",
            "Epoch 50/70\n",
            "49/49 [==============================] - 0s 5ms/step - loss: 0.0108 - val_loss: 0.0242 - _timestamp: 1647871073.0000 - _runtime: 36.0000\n",
            "Epoch 51/70\n",
            "49/49 [==============================] - 0s 5ms/step - loss: 0.0107 - val_loss: 0.0226 - _timestamp: 1647871073.0000 - _runtime: 36.0000\n",
            "Epoch 52/70\n",
            "49/49 [==============================] - 0s 5ms/step - loss: 0.0107 - val_loss: 0.0208 - _timestamp: 1647871074.0000 - _runtime: 37.0000\n",
            "Epoch 53/70\n",
            "49/49 [==============================] - 0s 5ms/step - loss: 0.0107 - val_loss: 0.0192 - _timestamp: 1647871074.0000 - _runtime: 37.0000\n",
            "Epoch 54/70\n",
            "49/49 [==============================] - 0s 5ms/step - loss: 0.0092 - val_loss: 0.0211 - _timestamp: 1647871074.0000 - _runtime: 37.0000\n",
            "Epoch 55/70\n",
            "49/49 [==============================] - 0s 5ms/step - loss: 0.0092 - val_loss: 0.0154 - _timestamp: 1647871074.0000 - _runtime: 37.0000\n",
            "Epoch 56/70\n",
            "49/49 [==============================] - 0s 6ms/step - loss: 0.0094 - val_loss: 0.0332 - _timestamp: 1647871075.0000 - _runtime: 38.0000\n",
            "Epoch 57/70\n",
            "49/49 [==============================] - 0s 5ms/step - loss: 0.0093 - val_loss: 0.0242 - _timestamp: 1647871075.0000 - _runtime: 38.0000\n",
            "Epoch 58/70\n",
            "49/49 [==============================] - 0s 5ms/step - loss: 0.0099 - val_loss: 0.0243 - _timestamp: 1647871075.0000 - _runtime: 38.0000\n",
            "Epoch 59/70\n",
            "49/49 [==============================] - 0s 5ms/step - loss: 0.0113 - val_loss: 0.0195 - _timestamp: 1647871075.0000 - _runtime: 38.0000\n",
            "Epoch 60/70\n",
            "49/49 [==============================] - 0s 6ms/step - loss: 0.0100 - val_loss: 0.0303 - _timestamp: 1647871076.0000 - _runtime: 39.0000\n",
            "Epoch 61/70\n",
            "49/49 [==============================] - 0s 5ms/step - loss: 0.0113 - val_loss: 0.0232 - _timestamp: 1647871076.0000 - _runtime: 39.0000\n",
            "Epoch 62/70\n",
            "49/49 [==============================] - 0s 5ms/step - loss: 0.0090 - val_loss: 0.0279 - _timestamp: 1647871076.0000 - _runtime: 39.0000\n",
            "Epoch 63/70\n",
            "49/49 [==============================] - 0s 5ms/step - loss: 0.0110 - val_loss: 0.0201 - _timestamp: 1647871076.0000 - _runtime: 39.0000\n",
            "Epoch 64/70\n",
            "49/49 [==============================] - 0s 6ms/step - loss: 0.0088 - val_loss: 0.0162 - _timestamp: 1647871077.0000 - _runtime: 40.0000\n",
            "Epoch 65/70\n",
            "49/49 [==============================] - 0s 5ms/step - loss: 0.0106 - val_loss: 0.0202 - _timestamp: 1647871077.0000 - _runtime: 40.0000\n",
            "Epoch 66/70\n",
            "49/49 [==============================] - 0s 5ms/step - loss: 0.0096 - val_loss: 0.0253 - _timestamp: 1647871077.0000 - _runtime: 40.0000\n",
            "Epoch 67/70\n",
            "49/49 [==============================] - 0s 5ms/step - loss: 0.0105 - val_loss: 0.0240 - _timestamp: 1647871078.0000 - _runtime: 41.0000\n",
            "Epoch 68/70\n",
            "49/49 [==============================] - 0s 5ms/step - loss: 0.0103 - val_loss: 0.0183 - _timestamp: 1647871078.0000 - _runtime: 41.0000\n",
            "Epoch 69/70\n",
            "49/49 [==============================] - 0s 5ms/step - loss: 0.0094 - val_loss: 0.0344 - _timestamp: 1647871078.0000 - _runtime: 41.0000\n",
            "Epoch 70/70\n",
            "49/49 [==============================] - 0s 6ms/step - loss: 0.0099 - val_loss: 0.0258 - _timestamp: 1647871078.0000 - _runtime: 41.0000\n",
            "Time: 32.0931\n"
          ]
        }
      ]
    },
    {
      "cell_type": "code",
      "source": [
        "# Plotting data \n",
        "loss = history.history['loss']\n",
        "val_loss = history.history['val_loss']\n",
        "epochs = range(len(loss))\n",
        "plt.figure(figsize=(10, 8))\n",
        "plt.plot(epochs, loss, 'b', label='Training loss')\n",
        "plt.plot(epochs, val_loss, 'orange', label='Validation loss')\n",
        "plt.title(\"Training and Validation loss\")\n",
        "plt.legend()\n",
        "plt.show()\n",
        "\n",
        "# Predict the model\n",
        "y_pred = model.predict(x_test)\n",
        "\n",
        "# Print out Mean Squared Error (MSE)\n",
        "mse = np.mean((y_pred - y_test)**2)\n",
        "print(\"MSE: %.4f\" % mse)\n",
        "\n",
        "# Print out Root Mean Squared Error (RMSE)\n",
        "rmse = np.sqrt(mse)\n",
        "print(\"RMSE: %.4f\" % rmse)\n",
        "\n",
        "# Print out Mean Absolute Error (MAE)\n",
        "mae = np.mean(np.abs(y_pred - y_test))\n",
        "print(\"MAE: %.4f\" % mae)\n",
        "\n",
        "# Print out Mean Absolute Percentage Error (MAPE)\n",
        "mape = np.mean(np.abs((y_pred - y_test) / y_test)) * 100\n",
        "print(\"MAPE (percentage): %.4f\" % mape)\n",
        "\n",
        "# Invers Scaling \n",
        "# actual_inverse = sc.inverse_transform([y_test])\n",
        "# actual_inverse_2d = np.reshape(actual_inverse, (actual_inverse.shape[1], 1))\n",
        "# pred_inverse = sc.inverse_transform(y_pred)\n",
        "\n",
        "plt.figure(figsize=(18,8))\n",
        "plt.plot(y_test, '.-', color='red', label='Real market values', alpha=0.5)\n",
        "plt.plot(y_pred, '.-', color='blue', label='Predicted values', alpha=1)\n",
        "plt.title(\"Bitcoin Price Prediction using RNN-LSTM\")\n",
        "plt.xlabel(\"Time\")\n",
        "plt.ylabel(\"Price\")\n",
        "plt.legend()\n",
        "plt.show()"
      ],
      "metadata": {
        "id": "tr0ci0PUQ9r8",
        "colab": {
          "base_uri": "https://localhost:8080/",
          "height": 1000
        },
        "outputId": "46e593a9-b217-4dad-e7da-5a2029b49f89"
      },
      "execution_count": 29,
      "outputs": [
        {
          "output_type": "display_data",
          "data": {
            "text/plain": [
              "<Figure size 720x576 with 1 Axes>"
            ],
            "image/png": "[encoded data removed]"
          },
          "metadata": {
            "needs_background": "light"
          }
        },
        {
          "output_type": "stream",
          "name": "stdout",
          "text": [
            "MSE: 0.0573\n",
            "RMSE: 0.2395\n",
            "MAE: 0.1952\n",
            "MAPE (percentage): 83.9814\n"
          ]
        },
        {
          "output_type": "display_data",
          "data": {
            "text/plain": [
              "<Figure size 1296x576 with 1 Axes>"
            ],
            "image/png": "[encoded data removed]"
          },
          "metadata": {
            "needs_background": "light"
          }
        }
      ]
    },
    {
      "cell_type": "markdown",
      "source": [
        "## Cross-correlation analysis\n",
        "The correlation coefficient is measured on a scale from -1 to 1. A correlation coefficient of 1 indicates a perfect positive correlation between the prices of two stocks, meaning the stocks always move in the same direction by the same amount. A coefficient of -1 indicates a perfect negative correlation, meaning that the stocks have historically always moved in the opposite direction. If two stocks have a correlation coefficient of 0, it means there is no correlation and, therefore, no relationship between the stocks. It is unusual to have either a perfect positive or negative correlation."
      ],
      "metadata": {
        "id": "eVAIgP14Eng7"
      }
    },
    {
      "cell_type": "code",
      "source": [
        "actual_price = pd.DataFrame(y_test, columns=['price'])\n",
        "predicted_price = pd.DataFrame(y_pred, columns=['price'])"
      ],
      "metadata": {
        "id": "6agMSLjJIic1"
      },
      "execution_count": 30,
      "outputs": []
    },
    {
      "cell_type": "code",
      "source": [
        "def crosscorr(datax, datay, lag=0, method=\"pearson\"):\n",
        "    \"\"\" Lag-N cross correlation. \n",
        "    Parameters\n",
        "    —------—\n",
        "    lag : int, default 0\n",
        "    datax, datay : pandas.Series objects of equal length\n",
        "\n",
        "    Returns\n",
        "    —------—\n",
        "    crosscorr : float\n",
        "    \"\"\"\n",
        "    return datax.corr(datay.shift(lag), method=method)"
      ],
      "metadata": {
        "id": "9bAaguJte4Pa"
      },
      "execution_count": 31,
      "outputs": []
    },
    {
      "cell_type": "code",
      "source": [
        "xcov = [crosscorr(predicted_price['price'], actual_price['price'], lag=i, method=\"pearson\") for i in range(-20,20)]\n",
        "plt.plot(range(-20,20), xcov)\n",
        "plt.title(\"pearson cross-correlation\")\n",
        "plt.xlabel(\"lag\")\n",
        "plt.ylabel(\"correlation\")\n",
        "plt.show()"
      ],
      "metadata": {
        "colab": {
          "base_uri": "https://localhost:8080/",
          "height": 294
        },
        "id": "rOC8FEMFI_tA",
        "outputId": "6854ffb4-2b57-4209-a0a0-4c731acd654c"
      },
      "execution_count": 32,
      "outputs": [
        {
          "output_type": "display_data",
          "data": {
            "text/plain": [
              "<Figure size 432x288 with 1 Axes>"
            ],
            "image/png": "[encoded data removed]"
          },
          "metadata": {
            "needs_background": "light"
          }
        }
      ]
    },
    {
      "cell_type": "code",
      "source": [
        "actual_price['price'].corr(predicted_price['price'])"
      ],
      "metadata": {
        "colab": {
          "base_uri": "https://localhost:8080/"
        },
        "id": "qA0eRlXiJK1M",
        "outputId": "8146a583-d91b-4a46-c273-f9a984acdb48"
      },
      "execution_count": 34,
      "outputs": [
        {
          "output_type": "execute_result",
          "data": {
            "text/plain": [
              "0.9499323120784195"
            ]
          },
          "metadata": {},
          "execution_count": 34
        }
      ]
    },
    {
      "cell_type": "code",
      "source": [
        ""
      ],
      "metadata": {
        "id": "Hx5cRlqDx1An"
      },
      "execution_count": null,
      "outputs": []
    }
  ]
}