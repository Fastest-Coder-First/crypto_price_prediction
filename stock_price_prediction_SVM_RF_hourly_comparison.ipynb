{
  "nbformat": 4,
  "nbformat_minor": 0,
  "metadata": {
    "colab": {
      "name": "stock-price-prediction_SVM_RF_hourly-comparison.ipynb",
      "provenance": [],
      "mount_file_id": "https://github.com/paulcodrea/dissertation/blob/main/stock_price_prediction_SVM_RF_hourly_comparison.ipynb",
      "authorship_tag": "ABX9TyPENiyUEi4IxlY0OSf2e7/q",
      "include_colab_link": true
    },
    "kernelspec": {
      "name": "python3",
      "display_name": "Python 3"
    },
    "language_info": {
      "name": "python"
    }
  },
  "cells": [
    {
      "cell_type": "markdown",
      "metadata": {
        "id": "view-in-github",
        "colab_type": "text"
      },
      "source": [
        "<a href=\"https://colab.research.google.com/github/paulcodrea/dissertation/blob/main/stock_price_prediction_SVM_RF_hourly_comparison.ipynb\" target=\"_parent\"><img src=\"https://colab.research.google.com/assets/colab-badge.svg\" alt=\"Open In Colab\"/></a>"
      ]
    },
    {
      "cell_type": "code",
      "execution_count": 1,
      "metadata": {
        "colab": {
          "base_uri": "https://localhost:8080/"
        },
        "id": "LfPzZxgtis31",
        "outputId": "463f8d71-78f7-4ccd-f81b-79cc5ca4c1ed"
      },
      "outputs": [
        {
          "output_type": "stream",
          "name": "stdout",
          "text": [
            "Collecting treeinterpreter\n",
            "  Downloading treeinterpreter-0.2.3-py2.py3-none-any.whl (6.0 kB)\n",
            "Installing collected packages: treeinterpreter\n",
            "Successfully installed treeinterpreter-0.2.3\n"
          ]
        }
      ],
      "source": [
        "!pip install treeinterpreter\n",
        "from sklearn.model_selection import train_test_split\n",
        "from treeinterpreter import treeinterpreter as ti\n",
        "from sklearn.tree import DecisionTreeRegressor\n",
        "from sklearn.ensemble import RandomForestRegressor\n",
        "\n",
        "from sklearn import svm\n",
        "from sklearn.svm import SVR \n",
        "\n",
        "from sklearn.metrics import mean_squared_error\n",
        "from math import sqrt"
      ]
    },
    {
      "cell_type": "code",
      "source": [
        "import datetime\n",
        "# import GetOldTweets3 as got\n",
        "# import yfinance as yf\n",
        "import matplotlib.pyplot as plt\n",
        "import pandas as pd\n",
        "import numpy as np\n",
        "import csv\n",
        "import sys\n",
        "import re\n",
        "import string\n",
        "import json\n",
        "import os"
      ],
      "metadata": {
        "id": "W1aC_23mo5fK"
      },
      "execution_count": 2,
      "outputs": []
    },
    {
      "cell_type": "code",
      "source": [
        "# Predicting stock prices using Random Forest model\n",
        "def RandomForestModel(df):\n",
        "  # df = pd.read_csv('sentimentAnalysis_' + stockname +'.csv')\n",
        "  train, test = train_test_split(df, shuffle=False, test_size=0.2)\n",
        "  print(train.size)\n",
        "  print(test.size)\n",
        "\n",
        "  sentiment_score_list_train = []\n",
        "  for date, row in train.T.iteritems():\n",
        "    sentiment_score = np.asarray([df.loc[date, 'negative'], df.loc[date, 'neutral'],  df.loc[date, 'positive']])\n",
        "    sentiment_score_list_train.append(sentiment_score)\n",
        "  numpy_df_train = np.asarray(sentiment_score_list_train)\n",
        "\n",
        "  sentiment_score_list_test = []\n",
        "  for date, row in test.T.iteritems():\n",
        "    sentiment_score = np.asarray([df.loc[date, 'negative'], df.loc[date, 'neutral'],  df.loc[date, 'positive']])\n",
        "    sentiment_score_list_test.append(sentiment_score)\n",
        "  numpy_df_test = np.asarray(sentiment_score_list_test)\n",
        "\n",
        "  y_train = pd.DataFrame(train['Price'])\n",
        "  y_test = pd.DataFrame(test['Price'])\n",
        "\n",
        "  rf = RandomForestRegressor()\n",
        "  rf.fit(numpy_df_train, y_train)\n",
        "  prediction, bias, contributions = ti.predict(rf, numpy_df_test)\n",
        "\n",
        "  print(\"\\n\\n\")\n",
        "  plt.figure()\n",
        "  plt.plot(test['Price'].iloc[:].values)\n",
        "  plt.plot(prediction.flatten())\n",
        "  plt.title('Random Forest predicted prices')\n",
        "  plt.ylabel('Stock Prices')\n",
        "  plt.xlabel('Days')\n",
        "  plt.legend(['actual', 'predicted'])\n",
        "  plt.show()\n",
        "\n",
        "  print(\"\\n\\n\")\n",
        "  print(\"RMSE value for Random Forest Model : \")\n",
        "  rmse = sqrt(mean_squared_error(y_test, prediction.flatten()))\n",
        "  print(rmse)\n",
        "  print(\"\\n\\n\")"
      ],
      "metadata": {
        "id": "aXcVjRAnn9GO"
      },
      "execution_count": 3,
      "outputs": []
    },
    {
      "cell_type": "code",
      "source": [
        "# Predicting stock prices using Support Vector Regression model\n",
        "def SVRModel(stockname):\n",
        "  # df = pd.read_csv('sentimentAnalysis_' + stockname +'.csv')\n",
        "  train, test = train_test_split(df, shuffle=False, test_size=0.2)\n",
        "  print(train.size)\n",
        "  print(test.size)\n",
        "\n",
        "  sentiment_score_list_train = []\n",
        "  for date, row in train.T.iteritems():\n",
        "    sentiment_score = np.asarray([df.loc[date, 'negative'], df.loc[date, 'neutral'],  df.loc[date, 'positive']])\n",
        "    sentiment_score_list_train.append(sentiment_score)\n",
        "  numpy_df_train = np.asarray(sentiment_score_list_train)\n",
        "\n",
        "  sentiment_score_list_test = []\n",
        "  for date, row in test.T.iteritems():\n",
        "    sentiment_score = np.asarray([df.loc[date, 'negative'], df.loc[date, 'neutral'],  df.loc[date, 'positive']])\n",
        "    sentiment_score_list_test.append(sentiment_score)\n",
        "  numpy_df_test = np.asarray(sentiment_score_list_test)\n",
        "\n",
        "  y_train = pd.DataFrame(train['Price'])\n",
        "  y_test = pd.DataFrame(test['Price'])\n",
        "\n",
        "  svr_rbf = SVR(kernel='rbf', C=1e6, gamma=0.1)\n",
        "  svr_rbf.fit(numpy_df_train, y_train.values.flatten())\n",
        "  output_test_svm = svr_rbf.predict(numpy_df_test)\n",
        "\n",
        "  plt.figure()\n",
        "  plt.plot(test['Price'].iloc[:].values)\n",
        "  plt.plot(output_test_svm)\n",
        "  plt.title('SVM predicted prices')\n",
        "  plt.ylabel('Stock Prices')\n",
        "  plt.xlabel('Days')\n",
        "  plt.legend(['actual', 'predicted'])\n",
        "  plt.show()\n",
        "\n",
        "  print(\"\\n\\n\")\n",
        "  print(\"RMSE value for Support Vector Regression Model : \")\n",
        "  rmse = sqrt(mean_squared_error(y_test, output_test_svm))\n",
        "  print(rmse)\n",
        "  print(\"\\n\\n\")"
      ],
      "metadata": {
        "id": "ogFlAJKUo7KG"
      },
      "execution_count": 4,
      "outputs": []
    },
    {
      "cell_type": "code",
      "source": [
        "df = pd.read_csv(\"/content/drive/MyDrive/COMP30030_Dissertation_paul.codrea/Market-prediction/hour_df.csv\")#('/content/hour_df.csv')"
      ],
      "metadata": {
        "id": "K39sEKABpGmg"
      },
      "execution_count": 5,
      "outputs": []
    },
    {
      "cell_type": "code",
      "source": [
        "print(df.head())"
      ],
      "metadata": {
        "colab": {
          "base_uri": "https://localhost:8080/"
        },
        "id": "U3Q6gjidzmGS",
        "outputId": "c37756de-5855-4b73-f1d9-0bf1d44de77c"
      },
      "execution_count": 6,
      "outputs": [
        {
          "output_type": "stream",
          "name": "stdout",
          "text": [
            "               date  positive  negative   neutral       score     close\n",
            "0  2022-02-27 11:00  0.136658  0.020665  0.842666  534.449361  39506.94\n",
            "1  2022-02-27 12:00  0.140839  0.022763  0.836392  695.736467  39772.65\n",
            "2  2022-02-27 13:00  0.154944  0.027658  0.817392  456.427667  39087.32\n",
            "3  2022-02-27 14:00  0.137984  0.033730  0.828276  547.796955  38805.72\n",
            "4  2022-02-27 15:00  0.137928  0.049283  0.812779  525.495285  39375.33\n"
          ]
        }
      ]
    },
    {
      "cell_type": "code",
      "source": [
        "# df.set_index('Date',inplace=True)\n",
        "# df.drop(columns=['coin_type'], inplace=True)\n",
        "df.rename(columns={'close':'Price'}, inplace=True)\n",
        "df"
      ],
      "metadata": {
        "colab": {
          "base_uri": "https://localhost:8080/",
          "height": 423
        },
        "id": "QFWqQhZTqU9I",
        "outputId": "526095ba-9477-4b9a-958a-fa4754b7dd18"
      },
      "execution_count": 7,
      "outputs": [
        {
          "output_type": "execute_result",
          "data": {
            "text/html": [
              "\n",
              "  <div id=\"df-957cf25e-c1ed-4720-9061-73159b05bae7\">\n",
              "    <div class=\"colab-df-container\">\n",
              "      <div>\n",
              "<style scoped>\n",
              "    .dataframe tbody tr th:only-of-type {\n",
              "        vertical-align: middle;\n",
              "    }\n",
              "\n",
              "    .dataframe tbody tr th {\n",
              "        vertical-align: top;\n",
              "    }\n",
              "\n",
              "    .dataframe thead th {\n",
              "        text-align: right;\n",
              "    }\n",
              "</style>\n",
              "<table border=\"1\" class=\"dataframe\">\n",
              "  <thead>\n",
              "    <tr style=\"text-align: right;\">\n",
              "      <th></th>\n",
              "      <th>date</th>\n",
              "      <th>positive</th>\n",
              "      <th>negative</th>\n",
              "      <th>neutral</th>\n",
              "      <th>score</th>\n",
              "      <th>Price</th>\n",
              "    </tr>\n",
              "  </thead>\n",
              "  <tbody>\n",
              "    <tr>\n",
              "      <th>0</th>\n",
              "      <td>2022-02-27 11:00</td>\n",
              "      <td>0.136658</td>\n",
              "      <td>0.020665</td>\n",
              "      <td>0.842666</td>\n",
              "      <td>534.449361</td>\n",
              "      <td>39506.94</td>\n",
              "    </tr>\n",
              "    <tr>\n",
              "      <th>1</th>\n",
              "      <td>2022-02-27 12:00</td>\n",
              "      <td>0.140839</td>\n",
              "      <td>0.022763</td>\n",
              "      <td>0.836392</td>\n",
              "      <td>695.736467</td>\n",
              "      <td>39772.65</td>\n",
              "    </tr>\n",
              "    <tr>\n",
              "      <th>2</th>\n",
              "      <td>2022-02-27 13:00</td>\n",
              "      <td>0.154944</td>\n",
              "      <td>0.027658</td>\n",
              "      <td>0.817392</td>\n",
              "      <td>456.427667</td>\n",
              "      <td>39087.32</td>\n",
              "    </tr>\n",
              "    <tr>\n",
              "      <th>3</th>\n",
              "      <td>2022-02-27 14:00</td>\n",
              "      <td>0.137984</td>\n",
              "      <td>0.033730</td>\n",
              "      <td>0.828276</td>\n",
              "      <td>547.796955</td>\n",
              "      <td>38805.72</td>\n",
              "    </tr>\n",
              "    <tr>\n",
              "      <th>4</th>\n",
              "      <td>2022-02-27 15:00</td>\n",
              "      <td>0.137928</td>\n",
              "      <td>0.049283</td>\n",
              "      <td>0.812779</td>\n",
              "      <td>525.495285</td>\n",
              "      <td>39375.33</td>\n",
              "    </tr>\n",
              "    <tr>\n",
              "      <th>...</th>\n",
              "      <td>...</td>\n",
              "      <td>...</td>\n",
              "      <td>...</td>\n",
              "      <td>...</td>\n",
              "      <td>...</td>\n",
              "      <td>...</td>\n",
              "    </tr>\n",
              "    <tr>\n",
              "      <th>99</th>\n",
              "      <td>2022-03-03 14:00</td>\n",
              "      <td>0.134550</td>\n",
              "      <td>0.026545</td>\n",
              "      <td>0.838902</td>\n",
              "      <td>601.876917</td>\n",
              "      <td>43505.32</td>\n",
              "    </tr>\n",
              "    <tr>\n",
              "      <th>100</th>\n",
              "      <td>2022-03-03 15:00</td>\n",
              "      <td>0.145464</td>\n",
              "      <td>0.026063</td>\n",
              "      <td>0.828469</td>\n",
              "      <td>1789.585619</td>\n",
              "      <td>42575.67</td>\n",
              "    </tr>\n",
              "    <tr>\n",
              "      <th>101</th>\n",
              "      <td>2022-03-03 16:00</td>\n",
              "      <td>0.144684</td>\n",
              "      <td>0.032216</td>\n",
              "      <td>0.823096</td>\n",
              "      <td>2526.700818</td>\n",
              "      <td>42436.28</td>\n",
              "    </tr>\n",
              "    <tr>\n",
              "      <th>102</th>\n",
              "      <td>2022-03-03 17:00</td>\n",
              "      <td>0.158011</td>\n",
              "      <td>0.034851</td>\n",
              "      <td>0.807137</td>\n",
              "      <td>401.510199</td>\n",
              "      <td>42409.91</td>\n",
              "    </tr>\n",
              "    <tr>\n",
              "      <th>103</th>\n",
              "      <td>2022-03-03 18:00</td>\n",
              "      <td>0.128044</td>\n",
              "      <td>0.024477</td>\n",
              "      <td>0.847479</td>\n",
              "      <td>335.763772</td>\n",
              "      <td>42266.05</td>\n",
              "    </tr>\n",
              "  </tbody>\n",
              "</table>\n",
              "<p>104 rows × 6 columns</p>\n",
              "</div>\n",
              "      <button class=\"colab-df-convert\" onclick=\"convertToInteractive('df-957cf25e-c1ed-4720-9061-73159b05bae7')\"\n",
              "              title=\"Convert this dataframe to an interactive table.\"\n",
              "              style=\"display:none;\">\n",
              "        \n",
              "  <svg xmlns=\"http://www.w3.org/2000/svg\" height=\"24px\"viewBox=\"0 0 24 24\"\n",
              "       width=\"24px\">\n",
              "    <path d=\"M0 0h24v24H0V0z\" fill=\"none\"/>\n",
              "    <path d=\"M18.56 5.44l.94 2.06.94-2.06 2.06-.94-2.06-.94-.94-2.06-.94 2.06-2.06.94zm-11 1L8.5 8.5l.94-2.06 2.06-.94-2.06-.94L8.5 2.5l-.94 2.06-2.06.94zm10 10l.94 2.06.94-2.06 2.06-.94-2.06-.94-.94-2.06-.94 2.06-2.06.94z\"/><path d=\"M17.41 7.96l-1.37-1.37c-.4-.4-.92-.59-1.43-.59-.52 0-1.04.2-1.43.59L10.3 9.45l-7.72 7.72c-.78.78-.78 2.05 0 2.83L4 21.41c.39.39.9.59 1.41.59.51 0 1.02-.2 1.41-.59l7.78-7.78 2.81-2.81c.8-.78.8-2.07 0-2.86zM5.41 20L4 18.59l7.72-7.72 1.47 1.35L5.41 20z\"/>\n",
              "  </svg>\n",
              "      </button>\n",
              "      \n",
              "  <style>\n",
              "    .colab-df-container {\n",
              "      display:flex;\n",
              "      flex-wrap:wrap;\n",
              "      gap: 12px;\n",
              "    }\n",
              "\n",
              "    .colab-df-convert {\n",
              "      background-color: #E8F0FE;\n",
              "      border: none;\n",
              "      border-radius: 50%;\n",
              "      cursor: pointer;\n",
              "      display: none;\n",
              "      fill: #1967D2;\n",
              "      height: 32px;\n",
              "      padding: 0 0 0 0;\n",
              "      width: 32px;\n",
              "    }\n",
              "\n",
              "    .colab-df-convert:hover {\n",
              "      background-color: #E2EBFA;\n",
              "      box-shadow: 0px 1px 2px rgba(60, 64, 67, 0.3), 0px 1px 3px 1px rgba(60, 64, 67, 0.15);\n",
              "      fill: #174EA6;\n",
              "    }\n",
              "\n",
              "    [theme=dark] .colab-df-convert {\n",
              "      background-color: #3B4455;\n",
              "      fill: #D2E3FC;\n",
              "    }\n",
              "\n",
              "    [theme=dark] .colab-df-convert:hover {\n",
              "      background-color: #434B5C;\n",
              "      box-shadow: 0px 1px 3px 1px rgba(0, 0, 0, 0.15);\n",
              "      filter: drop-shadow(0px 1px 2px rgba(0, 0, 0, 0.3));\n",
              "      fill: #FFFFFF;\n",
              "    }\n",
              "  </style>\n",
              "\n",
              "      <script>\n",
              "        const buttonEl =\n",
              "          document.querySelector('#df-957cf25e-c1ed-4720-9061-73159b05bae7 button.colab-df-convert');\n",
              "        buttonEl.style.display =\n",
              "          google.colab.kernel.accessAllowed ? 'block' : 'none';\n",
              "\n",
              "        async function convertToInteractive(key) {\n",
              "          const element = document.querySelector('#df-957cf25e-c1ed-4720-9061-73159b05bae7');\n",
              "          const dataTable =\n",
              "            await google.colab.kernel.invokeFunction('convertToInteractive',\n",
              "                                                     [key], {});\n",
              "          if (!dataTable) return;\n",
              "\n",
              "          const docLinkHtml = 'Like what you see? Visit the ' +\n",
              "            '<a target=\"_blank\" href=https://colab.research.google.com/notebooks/data_table.ipynb>data table notebook</a>'\n",
              "            + ' to learn more about interactive tables.';\n",
              "          element.innerHTML = '';\n",
              "          dataTable['output_type'] = 'display_data';\n",
              "          await google.colab.output.renderOutput(dataTable, element);\n",
              "          const docLink = document.createElement('div');\n",
              "          docLink.innerHTML = docLinkHtml;\n",
              "          element.appendChild(docLink);\n",
              "        }\n",
              "      </script>\n",
              "    </div>\n",
              "  </div>\n",
              "  "
            ],
            "text/plain": [
              "                 date  positive  negative   neutral        score     Price\n",
              "0    2022-02-27 11:00  0.136658  0.020665  0.842666   534.449361  39506.94\n",
              "1    2022-02-27 12:00  0.140839  0.022763  0.836392   695.736467  39772.65\n",
              "2    2022-02-27 13:00  0.154944  0.027658  0.817392   456.427667  39087.32\n",
              "3    2022-02-27 14:00  0.137984  0.033730  0.828276   547.796955  38805.72\n",
              "4    2022-02-27 15:00  0.137928  0.049283  0.812779   525.495285  39375.33\n",
              "..                ...       ...       ...       ...          ...       ...\n",
              "99   2022-03-03 14:00  0.134550  0.026545  0.838902   601.876917  43505.32\n",
              "100  2022-03-03 15:00  0.145464  0.026063  0.828469  1789.585619  42575.67\n",
              "101  2022-03-03 16:00  0.144684  0.032216  0.823096  2526.700818  42436.28\n",
              "102  2022-03-03 17:00  0.158011  0.034851  0.807137   401.510199  42409.91\n",
              "103  2022-03-03 18:00  0.128044  0.024477  0.847479   335.763772  42266.05\n",
              "\n",
              "[104 rows x 6 columns]"
            ]
          },
          "metadata": {},
          "execution_count": 7
        }
      ]
    },
    {
      "cell_type": "code",
      "source": [
        "values = df.values\n",
        "# specify columns to plot\n",
        "groups = [1, 2]\n",
        "i = 1\n",
        "# plot each column\n",
        "plt.figure()\n",
        "for group in groups:\n",
        "\tplt.subplot(len(groups), 1, i)\n",
        "\tplt.plot(values[:, group])\n",
        "\tplt.title(df.columns[group], y=0.5, loc='right')\n",
        "\ti += 1\n",
        "plt.show()"
      ],
      "metadata": {
        "colab": {
          "base_uri": "https://localhost:8080/",
          "height": 264
        },
        "id": "-6EmCvk1qWZ5",
        "outputId": "d123b192-0cd1-454c-ea37-c8c57f341d98"
      },
      "execution_count": 8,
      "outputs": [
        {
          "output_type": "display_data",
          "data": {
            "image/png": "[encoded data removed]",
            "text/plain": [
              "<Figure size 432x288 with 2 Axes>"
            ]
          },
          "metadata": {
            "needs_background": "light"
          }
        }
      ]
    },
    {
      "cell_type": "code",
      "source": [
        "RandomForestModel(df)"
      ],
      "metadata": {
        "colab": {
          "base_uri": "https://localhost:8080/",
          "height": 553
        },
        "id": "VkyVnDkgqdS7",
        "outputId": "29798c7d-c72a-45a3-8799-6dc3416200df"
      },
      "execution_count": 9,
      "outputs": [
        {
          "output_type": "stream",
          "name": "stdout",
          "text": [
            "498\n",
            "126\n"
          ]
        },
        {
          "output_type": "stream",
          "name": "stderr",
          "text": [
            "/usr/local/lib/python3.7/dist-packages/ipykernel_launcher.py:24: DataConversionWarning: A column-vector y was passed when a 1d array was expected. Please change the shape of y to (n_samples,), for example using ravel().\n"
          ]
        },
        {
          "output_type": "stream",
          "name": "stdout",
          "text": [
            "\n",
            "\n",
            "\n"
          ]
        },
        {
          "output_type": "display_data",
          "data": {
            "image/png": "[encoded data removed]",
            "text/plain": [
              "<Figure size 432x288 with 1 Axes>"
            ]
          },
          "metadata": {
            "needs_background": "light"
          }
        },
        {
          "output_type": "stream",
          "name": "stdout",
          "text": [
            "\n",
            "\n",
            "\n",
            "RMSE value for Random Forest Model : \n",
            "2259.9440294533047\n",
            "\n",
            "\n",
            "\n"
          ]
        }
      ]
    },
    {
      "cell_type": "code",
      "source": [
        "SVRModel(df)"
      ],
      "metadata": {
        "colab": {
          "base_uri": "https://localhost:8080/",
          "height": 480
        },
        "id": "kpxID0k6r2W4",
        "outputId": "88a74afa-49d1-4eeb-8446-60e3507a9a07"
      },
      "execution_count": 10,
      "outputs": [
        {
          "output_type": "stream",
          "name": "stdout",
          "text": [
            "498\n",
            "126\n"
          ]
        },
        {
          "output_type": "display_data",
          "data": {
            "image/png": "[encoded data removed]",
            "text/plain": [
              "<Figure size 432x288 with 1 Axes>"
            ]
          },
          "metadata": {
            "needs_background": "light"
          }
        },
        {
          "output_type": "stream",
          "name": "stdout",
          "text": [
            "\n",
            "\n",
            "\n",
            "RMSE value for Support Vector Regression Model : \n",
            "520.0367629558989\n",
            "\n",
            "\n",
            "\n"
          ]
        }
      ]
    },
    {
      "cell_type": "code",
      "source": [
        ""
      ],
      "metadata": {
        "id": "RJqsFUoj3jni"
      },
      "execution_count": null,
      "outputs": []
    }
  ]
}