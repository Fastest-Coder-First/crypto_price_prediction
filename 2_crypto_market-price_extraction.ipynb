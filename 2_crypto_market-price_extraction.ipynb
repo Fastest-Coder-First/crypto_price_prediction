{
 "cells": [
  {
   "cell_type": "code",
   "execution_count": null,
   "metadata": {},
   "outputs": [],
   "source": [
    "import cryptocompare\n",
    "import pandas as pd\n",
    "import datetime\n",
    "import time\n",
    "import os\n",
    "from pathlib import Path\n",
    "import config\n",
    "\n",
    "import requests\n",
    "from typing import Union, Optional, List, Dict\n",
    "Timestamp = Union[datetime.datetime, datetime.date, int, float]"
   ]
  },
  {
   "cell_type": "code",
   "execution_count": null,
   "metadata": {},
   "outputs": [],
   "source": [
    "# Set the API key\n",
    "key = config.cryptocompare_key\n",
    "cryptocompare.cryptocompare._set_api_key_parameter(key)"
   ]
  },
  {
   "cell_type": "code",
   "execution_count": null,
   "metadata": {},
   "outputs": [],
   "source": [
    "# API\n",
    "_URL_PRICE = 'https://min-api.cryptocompare.com/data/pricemulti?fsyms={}&tsyms={}' \n",
    "_URL_PRICE_MULTI = 'https://min-api.cryptocompare.com/data/pricemulti?fsyms={}&tsyms={}'\n",
    "_URL_PRICE_MULTI_FULL = 'https://min-api.cryptocompare.com/data/pricemultifull?fsyms={}&tsyms={}'\n",
    "_URL_HIST_PRICE = 'https://min-api.cryptocompare.com/data/pricehistorical?fsym={}&tsyms={}&ts={}&e={}'\n",
    "_URL_HIST_PRICE_DAY = 'https://min-api.cryptocompare.com/data/histoday?fsym={}&tsym={}&limit={}&e={}&toTs={}'\n",
    "_URL_HIST_PRICE_HOUR = 'https://min-api.cryptocompare.com/data/histohour?fsym={}&tsym={}&limit={}&e={}&toTs={}'\n",
    "# _URL_EXCHANGES = 'https://www.cryptocompare.com/api/data/exchanges?'\n",
    "_URL_EXCHANGES_HOUR = 'https://min-api.cryptocompare.com/data/exchange/histohour?tsym={}&limit={}'\n",
    "\n",
    "# DEFAULTS\n",
    "CURRENCY = 'USD'    # Default currency\n",
    "LIMIT = 1440    # Default limit"
   ]
  },
  {
   "cell_type": "markdown",
   "metadata": {},
   "source": [
    "Cryptocompare provides a Github for scraping Real-time Crypto prices. Source:\n",
    "https://github.com/lagerfeuer/cryptocompare/blob/master/cryptocompare/cryptocompare.py"
   ]
  },
  {
   "cell_type": "code",
   "execution_count": null,
   "metadata": {},
   "outputs": [],
   "source": [
    "\n",
    "def _query_cryptocompare(url: str, errorCheck: bool = True, api_key: str = None) -> Optional[Dict]:\n",
    "    \"\"\"\n",
    "    Query the url and return the result or None on failure.\n",
    "    :param url: the url\n",
    "    :param errorCheck: run extra error checks (default: True)\n",
    "    :returns: respones, or nothing if errorCheck=True\n",
    "    :api_key: optional, if you want to add an API Key\n",
    "    \"\"\"\n",
    "    api_key_parameter = _set_api_key_parameter(api_key)\n",
    "    try:\n",
    "        response = requests.get(url + api_key_parameter).json()\n",
    "    except Exception as e:\n",
    "        print('Error getting coin information. %s' % str(e))\n",
    "        return None\n",
    "    if errorCheck and (response.get('Response') == 'Error'):\n",
    "        print('[ERROR] %s' % response.get('Message'))\n",
    "        return None\n",
    "    return response\n",
    "\n",
    "\n",
    "def _format_parameter(parameter: object) -> str:\n",
    "    \"\"\"\n",
    "    Format the parameter depending on its type and return\n",
    "    the string representation accepted by the API.\n",
    "    :param parameter: parameter to format\n",
    "    \"\"\"\n",
    "    if isinstance(parameter, list):\n",
    "        return ','.join(parameter)\n",
    "\n",
    "    else:\n",
    "        return str(parameter)\n",
    "\n",
    "\n",
    "def _format_timestamp(timestamp: Timestamp) -> int:\n",
    "    \"\"\"\n",
    "    Format the timestamp depending on its type and return\n",
    "    the integer representation accepted by the API.\n",
    "    :param timestamp: timestamp to format\n",
    "    \"\"\"\n",
    "    if isinstance(timestamp, datetime.datetime) or isinstance(timestamp, datetime.date):\n",
    "        return int(time.mktime(timestamp.timetuple()))\n",
    "    return int(timestamp)\n",
    "\n",
    "\n",
    "def _set_api_key_parameter(api_key: str = None) -> str:\n",
    "    if api_key is None:\n",
    "        api_key = os.getenv('CRYPTOCOMPARE_API_KEY')\n",
    "    if api_key is not None:\n",
    "        _API_KEY = \"&api_key={}\".format(api_key)\n",
    "        return _API_KEY\n",
    "    return \"\""
   ]
  },
  {
   "cell_type": "code",
   "execution_count": null,
   "metadata": {},
   "outputs": [],
   "source": [
    "def get_price(coin: str, currency: str = CURRENCY, full: bool = False) -> Optional[Dict]:\n",
    "    \"\"\"\n",
    "    Get the currencyent price of a coin in a given currency.\n",
    "    :param coin: symbolic name of the coin (e.g. BTC)\n",
    "    :param currency: short hand description of the currency (e.g. EUR)\n",
    "    :param full: full response or just the price (default: False)\n",
    "    :returns: dict of coin and currency price pairs\n",
    "    \"\"\"\n",
    "    if full:\n",
    "        return _query_cryptocompare(\n",
    "            _URL_PRICE_MULTI_FULL.format(\n",
    "                _format_parameter(coin), _format_parameter(currency))\n",
    "        )\n",
    "    if isinstance(coin, list):\n",
    "        return _query_cryptocompare(\n",
    "            _URL_PRICE_MULTI.format(_format_parameter(coin),\n",
    "                                    _format_parameter(currency))\n",
    "        )\n",
    "    return _query_cryptocompare(\n",
    "        _URL_PRICE.format(coin, _format_parameter(currency))\n",
    "    )\n",
    "\n",
    "\n",
    "def get_historical_price(coin: str, currency: str = CURRENCY, timestamp: Timestamp = time.time(),\n",
    "                         exchange: str = 'CCCAGG') -> Optional[Dict]:\n",
    "    \"\"\"\n",
    "    Get the price of a coin in a given currency during a specific time.\n",
    "    :param coin: symbolic name of the coin (e.g. BTC)\n",
    "    :param currency: short hand description of the currency (e.g. EUR)\n",
    "    :param timestamp: point in time\n",
    "    :param exchange: the exchange to use\n",
    "    :returns: dict of coin and currency price pairs\n",
    "    \"\"\"\n",
    "    return _query_cryptocompare(\n",
    "        _URL_HIST_PRICE.format(coin,\n",
    "                               _format_parameter(currency),\n",
    "                               _format_timestamp(timestamp),\n",
    "                               _format_parameter(exchange))\n",
    "    )\n",
    "\n",
    "\n",
    "def get_historical_price_day(coin: str, currency: str = CURRENCY, limit: int = LIMIT,\n",
    "                             exchange: str = 'CCCAGG', toTs: Timestamp = time.time()) -> Optional[Dict]:\n",
    "    \"\"\"\n",
    "    Get historical price (day).\n",
    "    :param coin: symbolic name of the coin (e.g. BTC)\n",
    "    :param currency: short hand description of the currency (e.g. EUR)\n",
    "    :param limit: number of data points (max. 2000)\n",
    "    :param exchange: exchange to use (default: 'CCCAGG')\n",
    "    :param toTs: return data before this timestamp. (Unix epoch time or datetime object)\n",
    "    :returns: dict of coin and currency price pairs\n",
    "    \"\"\"\n",
    "    response = _query_cryptocompare(\n",
    "        _URL_HIST_PRICE_DAY.format(coin, _format_parameter(currency), limit, exchange, _format_timestamp(toTs)))\n",
    "    if response:\n",
    "        return response['Data']\n",
    "    return None\n",
    "\n",
    "\n",
    "def get_historical_price_hour(coin: str, currency: str = CURRENCY, limit: int = LIMIT,\n",
    "                              exchange: str = 'CCCAGG', toTs: Timestamp = time.time()) -> Optional[Dict]:\n",
    "    \"\"\"\n",
    "    Get historical price (hourly).\n",
    "    :param coin: symbolic name of the coin (e.g. BTC)\n",
    "    :param currency: short hand description of the currency (e.g. EUR)\n",
    "    :param limit: number of data points (max. 2000)\n",
    "    :param exchange: exchange to use (default: 'CCCAGG')\n",
    "    :param toTs: return data before this timestamp. (Unix epoch time or datetime object)\n",
    "    :returns: dict of coin and currency price pairs\n",
    "    \"\"\"\n",
    "    response = _query_cryptocompare(\n",
    "        _URL_HIST_PRICE_HOUR.format(coin, _format_parameter(currency), limit, exchange, _format_timestamp(toTs)))\n",
    "    if response:\n",
    "        return response['Data']\n",
    "    return None\n",
    "\n",
    "\n",
    "def get_exchanges(currency: str = CURRENCY, limit: int = LIMIT) -> Optional[Dict]:\n",
    "    \"\"\"\n",
    "    Get the list of available exchanges.\n",
    "    :returns: list of available exchanges\n",
    "    \"\"\"\n",
    "    response = _query_cryptocompare(_URL_EXCHANGES_HOUR.format(currency, limit))\n",
    "    if response:\n",
    "        return response['Data']\n",
    "    return None"
   ]
  },
  {
   "cell_type": "markdown",
   "metadata": {},
   "source": [
    "### Scraping crypto prices for Price prediction "
   ]
  },
  {
   "cell_type": "code",
   "execution_count": null,
   "metadata": {},
   "outputs": [],
   "source": [
    "path = Path(f'{os.getcwd()}')\n",
    "df = get_historical_price_hour('BTC', currency='USD')"
   ]
  },
  {
   "cell_type": "code",
   "execution_count": null,
   "metadata": {},
   "outputs": [],
   "source": [
    "# Comvert df to dataframe and save to csv\n",
    "df = pd.DataFrame(df)\n",
    "df = df[['time', 'close']]\n",
    "df['time'] = pd.to_datetime(df['time'], unit='s')\n",
    "\n",
    "\n",
    "df = df.sort_values(by=['time'], ascending=False)\n",
    "# print(df.head())"
   ]
  },
  {
   "cell_type": "code",
   "execution_count": null,
   "metadata": {},
   "outputs": [],
   "source": [
    "df.to_csv(f\"{path}\\price_history-raw.csv\")"
   ]
  },
  {
   "cell_type": "markdown",
   "metadata": {},
   "source": [
    "### Data filtering"
   ]
  },
  {
   "cell_type": "code",
   "execution_count": null,
   "metadata": {},
   "outputs": [],
   "source": [
    "# Read csv file in new_df\n",
    "new_df = df.copy()\n",
    "\n",
    "# Remove Unnamed column\n",
    "new_df = new_df.drop(columns=['Unnamed: 0'])\n",
    "print(new_df.head())\n",
    "\n",
    "# Filter data to only show data between 21 Feb 2022 and now\n",
    "df_volume = new_df[(new_df['time'] >= '2022-02-20') & (new_df['time'] <= '2022-03-04')]\n",
    "\n",
    "# Save updated prices from filtered_df to a csv file\n",
    "df_volume.to_csv(f\"{path}\\price_history-filtered.csv\")"
   ]
  }
 ],
 "metadata": {
  "interpreter": {
   "hash": "93263193325cd6f76a9e21d176003adfa7a63d8f308e38218ffc45e6019c4146"
  },
  "kernelspec": {
   "display_name": "Python 3.9.7 64-bit",
   "language": "python",
   "name": "python3"
  },
  "language_info": {
   "codemirror_mode": {
    "name": "ipython",
    "version": 3
   },
   "file_extension": ".py",
   "mimetype": "text/x-python",
   "name": "python",
   "nbconvert_exporter": "python",
   "pygments_lexer": "ipython3",
   "version": "3.9.7"
  },
  "orig_nbformat": 4
 },
 "nbformat": 4,
 "nbformat_minor": 2
}
